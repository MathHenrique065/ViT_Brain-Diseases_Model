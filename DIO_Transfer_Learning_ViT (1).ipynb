{
  "nbformat": 4,
  "nbformat_minor": 0,
  "metadata": {
    "colab": {
      "provenance": []
    },
    "kernelspec": {
      "name": "python3",
      "display_name": "Python 3"
    },
    "accelerator": "GPU"
  },
  "cells": [
    {
      "cell_type": "markdown",
      "source": [
        "# Transfer Learning Project\n",
        "\n",
        "# Dataset: Detecting Alzheimer's and Parkinson Disease"
      ],
      "metadata": {
        "id": "qS2OEs5tbaHR"
      }
    },
    {
      "metadata": {
        "id": "3p-OjhDPYoZm"
      },
      "cell_type": "code",
      "source": [
        "#%matplotlib inline\n",
        "import numpy as np\n",
        "import keras\n",
        "import tensorflow.keras as tf\n",
        "import pandas as pd\n",
        "\n",
        "import os\n",
        "import zipfile\n",
        "import shutil\n",
        "import random\n",
        "#if using Theano with GPU\n",
        "#os.environ[\"KERAS_BACKEND\"] = \"tensorflow\"\n",
        "\n",
        "\n",
        "\n",
        "\n",
        "from sklearn.model_selection import train_test_split\n",
        "import matplotlib.pyplot as plt\n",
        "from matplotlib.pyplot import imshow\n",
        "\n",
        "\n",
        "\n",
        "from tensorflow.keras.preprocessing.image import ImageDataGenerator\n",
        "from keras.preprocessing import image\n",
        "from keras.applications.imagenet_utils import preprocess_input\n",
        "from keras.models import Sequential\n",
        "from keras.layers import Dense, Dropout, Flatten, Activation,   GlobalAveragePooling2D, Conv2D, MaxPooling2D\n",
        "from keras.models import Model"
      ],
      "execution_count": null,
      "outputs": []
    },
    {
      "cell_type": "code",
      "source": [],
      "metadata": {
        "id": "k0rAS-JqbND1"
      },
      "execution_count": null,
      "outputs": []
    },
    {
      "cell_type": "markdown",
      "source": [
        "## Extracting the Dataset"
      ],
      "metadata": {
        "id": "o4ZkiIHpjDkx"
      }
    },
    {
      "cell_type": "code",
      "source": [
        "!pip install opendatasets"
      ],
      "metadata": {
        "colab": {
          "base_uri": "https://localhost:8080/"
        },
        "id": "_5nxLjKRj-ry",
        "outputId": "e0e2ce30-608d-4c94-8e2a-5482c51d7f56"
      },
      "execution_count": null,
      "outputs": [
        {
          "output_type": "stream",
          "name": "stdout",
          "text": [
            "Requirement already satisfied: opendatasets in /usr/local/lib/python3.10/dist-packages (0.1.22)\n",
            "Requirement already satisfied: tqdm in /usr/local/lib/python3.10/dist-packages (from opendatasets) (4.66.1)\n",
            "Requirement already satisfied: kaggle in /usr/local/lib/python3.10/dist-packages (from opendatasets) (1.5.16)\n",
            "Requirement already satisfied: click in /usr/local/lib/python3.10/dist-packages (from opendatasets) (8.1.7)\n",
            "Requirement already satisfied: six>=1.10 in /usr/local/lib/python3.10/dist-packages (from kaggle->opendatasets) (1.16.0)\n",
            "Requirement already satisfied: certifi in /usr/local/lib/python3.10/dist-packages (from kaggle->opendatasets) (2023.11.17)\n",
            "Requirement already satisfied: python-dateutil in /usr/local/lib/python3.10/dist-packages (from kaggle->opendatasets) (2.8.2)\n",
            "Requirement already satisfied: requests in /usr/local/lib/python3.10/dist-packages (from kaggle->opendatasets) (2.31.0)\n",
            "Requirement already satisfied: python-slugify in /usr/local/lib/python3.10/dist-packages (from kaggle->opendatasets) (8.0.3)\n",
            "Requirement already satisfied: urllib3 in /usr/local/lib/python3.10/dist-packages (from kaggle->opendatasets) (2.0.7)\n",
            "Requirement already satisfied: bleach in /usr/local/lib/python3.10/dist-packages (from kaggle->opendatasets) (6.1.0)\n",
            "Requirement already satisfied: webencodings in /usr/local/lib/python3.10/dist-packages (from bleach->kaggle->opendatasets) (0.5.1)\n",
            "Requirement already satisfied: text-unidecode>=1.3 in /usr/local/lib/python3.10/dist-packages (from python-slugify->kaggle->opendatasets) (1.3)\n",
            "Requirement already satisfied: charset-normalizer<4,>=2 in /usr/local/lib/python3.10/dist-packages (from requests->kaggle->opendatasets) (3.3.2)\n",
            "Requirement already satisfied: idna<4,>=2.5 in /usr/local/lib/python3.10/dist-packages (from requests->kaggle->opendatasets) (3.6)\n"
          ]
        }
      ]
    },
    {
      "cell_type": "code",
      "source": [
        "import opendatasets as od"
      ],
      "metadata": {
        "id": "JCbYKGEyjVEG"
      },
      "execution_count": null,
      "outputs": []
    },
    {
      "cell_type": "code",
      "source": [
        "od.download(\"https://www.kaggle.com/datasets/farjanakabirsamanta/alzheimer-diseases-3-class\")"
      ],
      "metadata": {
        "colab": {
          "base_uri": "https://localhost:8080/"
        },
        "id": "dgGdyB_cj0Py",
        "outputId": "600ec3e5-c745-42b9-b23a-d984a7098b43"
      },
      "execution_count": null,
      "outputs": [
        {
          "output_type": "stream",
          "name": "stdout",
          "text": [
            "Skipping, found downloaded files in \"./alzheimer-diseases-3-class\" (use force=True to force download)\n"
          ]
        }
      ]
    },
    {
      "cell_type": "markdown",
      "source": [
        "## Separating in Folders"
      ],
      "metadata": {
        "id": "qh4cJ7O3cfYm"
      }
    },
    {
      "cell_type": "code",
      "source": [
        "\n",
        "# Caminho para o diretório baixado\n",
        "downloaded_folder_path = '/content/alzheimer-diseases-3-class'\n",
        "\n",
        "# Caminho para o diretório de saída para o pré-processamento\n",
        "output_folder_path = '/content/preprocessed_data'\n",
        "\n",
        "# Defina class labels\n",
        "class_labels = ['CONTROL', 'AD', 'PD']\n",
        "\n",
        "# Crie pastas de saída para conjuntos de treinamento, validação e teste\n",
        "for label in class_labels:\n",
        "    os.makedirs(os.path.join(output_folder_path, 'train', label), exist_ok=True)\n",
        "    os.makedirs(os.path.join(output_folder_path, 'val', label), exist_ok=True)\n",
        "    os.makedirs(os.path.join(output_folder_path, 'test', label), exist_ok=True)\n",
        "\n",
        "# Divida os dados em conjuntos de treinamento, validação e teste\n",
        "for label in class_labels:\n",
        "    image_folder = os.path.join(downloaded_folder_path, '3_cls/train', label)\n",
        "    images = os.listdir(image_folder)\n",
        "    train_images, test_images = train_test_split(images, test_size=0.2, random_state=42)\n",
        "    train_images, val_images = train_test_split(train_images, test_size=0.2, random_state=42)\n",
        "\n",
        "    # Copie as imagens para as pastas correspondentes\n",
        "    for image in train_images:\n",
        "        shutil.copy(os.path.join(image_folder, image), os.path.join(output_folder_path, 'train', label))\n",
        "    for image in val_images:\n",
        "        shutil.copy(os.path.join(image_folder, image), os.path.join(output_folder_path, 'val', label))\n",
        "    for image in test_images:\n",
        "        shutil.copy(os.path.join(image_folder, image), os.path.join(output_folder_path, 'test', label))\n",
        "\n"
      ],
      "metadata": {
        "id": "bV1_FiYMcdpl"
      },
      "execution_count": null,
      "outputs": []
    },
    {
      "cell_type": "code",
      "source": [],
      "metadata": {
        "id": "pJnfIv1rmBme"
      },
      "execution_count": null,
      "outputs": []
    },
    {
      "cell_type": "markdown",
      "source": [
        "## Data Generators"
      ],
      "metadata": {
        "id": "13c5WtXqciox"
      }
    },
    {
      "cell_type": "code",
      "source": [
        "# Set up data generators\n",
        "train_datagen = ImageDataGenerator(\n",
        "    rescale=1./255,\n",
        "    shear_range=0.2,\n",
        "    zoom_range=0.2,\n",
        "    horizontal_flip=True\n",
        ")\n",
        "\n",
        "val_datagen = ImageDataGenerator(rescale=1./255)\n"
      ],
      "metadata": {
        "id": "oJdarG74bXvM"
      },
      "execution_count": null,
      "outputs": []
    },
    {
      "cell_type": "code",
      "source": [
        "\n",
        "train_generator = train_datagen.flow_from_directory(\n",
        "    os.path.join(output_folder_path, 'train'),\n",
        "    target_size=(224, 224),\n",
        "    batch_size=32,\n",
        "    class_mode='categorical',\n",
        "    shuffle=True\n",
        ")\n",
        "\n",
        "val_generator = val_datagen.flow_from_directory(\n",
        "    os.path.join(output_folder_path, 'val'),\n",
        "    target_size=(224, 224),\n",
        "    batch_size=32,\n",
        "    class_mode='categorical',\n",
        "    shuffle=False\n",
        ")"
      ],
      "metadata": {
        "colab": {
          "base_uri": "https://localhost:8080/"
        },
        "id": "3Hs8UDnWbXsa",
        "outputId": "c9670700-4cd1-4ed1-9d46-1545b54fe0d5"
      },
      "execution_count": null,
      "outputs": [
        {
          "output_type": "stream",
          "name": "stdout",
          "text": [
            "Found 4143 images belonging to 3 classes.\n",
            "Found 1037 images belonging to 3 classes.\n"
          ]
        }
      ]
    },
    {
      "cell_type": "code",
      "source": [
        "\n",
        "# Split a portion of the training data for testing\n",
        "train_images, test_images, train_labels, test_labels = train_test_split(\n",
        "    train_generator.filepaths,\n",
        "    train_generator.labels,\n",
        "    test_size=0.2,\n",
        "    random_state=42\n",
        ")"
      ],
      "metadata": {
        "id": "wBOh6xt1pEez"
      },
      "execution_count": null,
      "outputs": []
    },
    {
      "cell_type": "code",
      "source": [
        "\n",
        "# Convert numerical labels to string labels\n",
        "train_labels_str = [str(label) for label in train_labels]\n",
        "test_labels_str = [str(label) for label in test_labels]"
      ],
      "metadata": {
        "id": "clXuWxWbpMtu"
      },
      "execution_count": null,
      "outputs": []
    },
    {
      "cell_type": "code",
      "source": [
        "\n",
        "# Set up a separate data generator for testing\n",
        "test_datagen = ImageDataGenerator(rescale=1./255)\n",
        "\n",
        "test_generator = test_datagen.flow_from_dataframe(\n",
        "    pd.DataFrame({'filename': test_images, 'class': test_labels_str}),\n",
        "    x_col='filename',\n",
        "    y_col='class',\n",
        "    target_size=(224, 224),\n",
        "    batch_size=32,\n",
        "    class_mode='categorical',\n",
        "    shuffle=False\n",
        ")\n"
      ],
      "metadata": {
        "colab": {
          "base_uri": "https://localhost:8080/"
        },
        "id": "m89SFTvepF3C",
        "outputId": "32fde7c3-6258-4f09-d64b-4b24c4f5d97d"
      },
      "execution_count": null,
      "outputs": [
        {
          "output_type": "stream",
          "name": "stdout",
          "text": [
            "Found 829 validated image filenames belonging to 3 classes.\n"
          ]
        }
      ]
    },
    {
      "cell_type": "code",
      "source": [
        "# Separando em inputs (x) e labels (y)\n",
        "train_x, train_y = next(train_generator)\n",
        "val_x, val_y = next(val_generator)\n",
        "\n",
        "test_x, test_y = next(test_generator)"
      ],
      "metadata": {
        "id": "l2zPOVJteehL"
      },
      "execution_count": null,
      "outputs": []
    },
    {
      "cell_type": "code",
      "source": [],
      "metadata": {
        "id": "6B0i_hXhbXW5"
      },
      "execution_count": null,
      "outputs": []
    },
    {
      "cell_type": "markdown",
      "source": [
        "# Training the model"
      ],
      "metadata": {
        "id": "8xevGJIKiq7n"
      }
    },
    {
      "metadata": {
        "id": "n2s5qypkYoad"
      },
      "cell_type": "markdown",
      "source": [
        "### Training a customized CNN model\n",
        "\n"
      ]
    },
    {
      "cell_type": "code",
      "source": [
        "\n",
        "# Define EfficientNet model using TensorFlow and Keras\n",
        "\n",
        "base_model = keras.applications.EfficientNetB0(include_top=False, input_shape=(224, 224, 3), weights='imagenet')\n",
        "\n",
        "model = Sequential([\n",
        "    base_model,\n",
        "\n",
        "    GlobalAveragePooling2D(),\n",
        "\n",
        "    Dense(256, activation='relu'),\n",
        "    Dropout(0.5),\n",
        "\n",
        "    Dense(128, activation='relu'),\n",
        "    Dropout(0.3),\n",
        "\n",
        "    Dense(64, activation='relu'),\n",
        "    Dropout(0.1),\n",
        "\n",
        "    Dense(3, activation='softmax')\n",
        "])"
      ],
      "metadata": {
        "id": "7UonJy1w6cvM"
      },
      "execution_count": null,
      "outputs": []
    },
    {
      "cell_type": "code",
      "source": [
        "base_model.summary()"
      ],
      "metadata": {
        "colab": {
          "base_uri": "https://localhost:8080/"
        },
        "id": "ZsXOioff-LcR",
        "outputId": "32530009-bd78-4c07-d4f6-30db5c68dbb8"
      },
      "execution_count": null,
      "outputs": [
        {
          "output_type": "stream",
          "name": "stdout",
          "text": [
            "Model: \"efficientnetb0\"\n",
            "__________________________________________________________________________________________________\n",
            " Layer (type)                Output Shape                 Param #   Connected to                  \n",
            "==================================================================================================\n",
            " input_15 (InputLayer)       [(None, 224, 224, 3)]        0         []                            \n",
            "                                                                                                  \n",
            " rescaling_10 (Rescaling)    (None, 224, 224, 3)          0         ['input_15[0][0]']            \n",
            "                                                                                                  \n",
            " normalization_5 (Normaliza  (None, 224, 224, 3)          7         ['rescaling_10[0][0]']        \n",
            " tion)                                                                                            \n",
            "                                                                                                  \n",
            " rescaling_11 (Rescaling)    (None, 224, 224, 3)          0         ['normalization_5[0][0]']     \n",
            "                                                                                                  \n",
            " stem_conv_pad (ZeroPadding  (None, 225, 225, 3)          0         ['rescaling_11[0][0]']        \n",
            " 2D)                                                                                              \n",
            "                                                                                                  \n",
            " stem_conv (Conv2D)          (None, 112, 112, 32)         864       ['stem_conv_pad[0][0]']       \n",
            "                                                                                                  \n",
            " stem_bn (BatchNormalizatio  (None, 112, 112, 32)         128       ['stem_conv[0][0]']           \n",
            " n)                                                                                               \n",
            "                                                                                                  \n",
            " stem_activation (Activatio  (None, 112, 112, 32)         0         ['stem_bn[0][0]']             \n",
            " n)                                                                                               \n",
            "                                                                                                  \n",
            " block1a_dwconv (DepthwiseC  (None, 112, 112, 32)         288       ['stem_activation[0][0]']     \n",
            " onv2D)                                                                                           \n",
            "                                                                                                  \n",
            " block1a_bn (BatchNormaliza  (None, 112, 112, 32)         128       ['block1a_dwconv[0][0]']      \n",
            " tion)                                                                                            \n",
            "                                                                                                  \n",
            " block1a_activation (Activa  (None, 112, 112, 32)         0         ['block1a_bn[0][0]']          \n",
            " tion)                                                                                            \n",
            "                                                                                                  \n",
            " block1a_se_squeeze (Global  (None, 32)                   0         ['block1a_activation[0][0]']  \n",
            " AveragePooling2D)                                                                                \n",
            "                                                                                                  \n",
            " block1a_se_reshape (Reshap  (None, 1, 1, 32)             0         ['block1a_se_squeeze[0][0]']  \n",
            " e)                                                                                               \n",
            "                                                                                                  \n",
            " block1a_se_reduce (Conv2D)  (None, 1, 1, 8)              264       ['block1a_se_reshape[0][0]']  \n",
            "                                                                                                  \n",
            " block1a_se_expand (Conv2D)  (None, 1, 1, 32)             288       ['block1a_se_reduce[0][0]']   \n",
            "                                                                                                  \n",
            " block1a_se_excite (Multipl  (None, 112, 112, 32)         0         ['block1a_activation[0][0]',  \n",
            " y)                                                                  'block1a_se_expand[0][0]']   \n",
            "                                                                                                  \n",
            " block1a_project_conv (Conv  (None, 112, 112, 16)         512       ['block1a_se_excite[0][0]']   \n",
            " 2D)                                                                                              \n",
            "                                                                                                  \n",
            " block1a_project_bn (BatchN  (None, 112, 112, 16)         64        ['block1a_project_conv[0][0]']\n",
            " ormalization)                                                                                    \n",
            "                                                                                                  \n",
            " block2a_expand_conv (Conv2  (None, 112, 112, 96)         1536      ['block1a_project_bn[0][0]']  \n",
            " D)                                                                                               \n",
            "                                                                                                  \n",
            " block2a_expand_bn (BatchNo  (None, 112, 112, 96)         384       ['block2a_expand_conv[0][0]'] \n",
            " rmalization)                                                                                     \n",
            "                                                                                                  \n",
            " block2a_expand_activation   (None, 112, 112, 96)         0         ['block2a_expand_bn[0][0]']   \n",
            " (Activation)                                                                                     \n",
            "                                                                                                  \n",
            " block2a_dwconv_pad (ZeroPa  (None, 113, 113, 96)         0         ['block2a_expand_activation[0]\n",
            " dding2D)                                                           [0]']                         \n",
            "                                                                                                  \n",
            " block2a_dwconv (DepthwiseC  (None, 56, 56, 96)           864       ['block2a_dwconv_pad[0][0]']  \n",
            " onv2D)                                                                                           \n",
            "                                                                                                  \n",
            " block2a_bn (BatchNormaliza  (None, 56, 56, 96)           384       ['block2a_dwconv[0][0]']      \n",
            " tion)                                                                                            \n",
            "                                                                                                  \n",
            " block2a_activation (Activa  (None, 56, 56, 96)           0         ['block2a_bn[0][0]']          \n",
            " tion)                                                                                            \n",
            "                                                                                                  \n",
            " block2a_se_squeeze (Global  (None, 96)                   0         ['block2a_activation[0][0]']  \n",
            " AveragePooling2D)                                                                                \n",
            "                                                                                                  \n",
            " block2a_se_reshape (Reshap  (None, 1, 1, 96)             0         ['block2a_se_squeeze[0][0]']  \n",
            " e)                                                                                               \n",
            "                                                                                                  \n",
            " block2a_se_reduce (Conv2D)  (None, 1, 1, 4)              388       ['block2a_se_reshape[0][0]']  \n",
            "                                                                                                  \n",
            " block2a_se_expand (Conv2D)  (None, 1, 1, 96)             480       ['block2a_se_reduce[0][0]']   \n",
            "                                                                                                  \n",
            " block2a_se_excite (Multipl  (None, 56, 56, 96)           0         ['block2a_activation[0][0]',  \n",
            " y)                                                                  'block2a_se_expand[0][0]']   \n",
            "                                                                                                  \n",
            " block2a_project_conv (Conv  (None, 56, 56, 24)           2304      ['block2a_se_excite[0][0]']   \n",
            " 2D)                                                                                              \n",
            "                                                                                                  \n",
            " block2a_project_bn (BatchN  (None, 56, 56, 24)           96        ['block2a_project_conv[0][0]']\n",
            " ormalization)                                                                                    \n",
            "                                                                                                  \n",
            " block2b_expand_conv (Conv2  (None, 56, 56, 144)          3456      ['block2a_project_bn[0][0]']  \n",
            " D)                                                                                               \n",
            "                                                                                                  \n",
            " block2b_expand_bn (BatchNo  (None, 56, 56, 144)          576       ['block2b_expand_conv[0][0]'] \n",
            " rmalization)                                                                                     \n",
            "                                                                                                  \n",
            " block2b_expand_activation   (None, 56, 56, 144)          0         ['block2b_expand_bn[0][0]']   \n",
            " (Activation)                                                                                     \n",
            "                                                                                                  \n",
            " block2b_dwconv (DepthwiseC  (None, 56, 56, 144)          1296      ['block2b_expand_activation[0]\n",
            " onv2D)                                                             [0]']                         \n",
            "                                                                                                  \n",
            " block2b_bn (BatchNormaliza  (None, 56, 56, 144)          576       ['block2b_dwconv[0][0]']      \n",
            " tion)                                                                                            \n",
            "                                                                                                  \n",
            " block2b_activation (Activa  (None, 56, 56, 144)          0         ['block2b_bn[0][0]']          \n",
            " tion)                                                                                            \n",
            "                                                                                                  \n",
            " block2b_se_squeeze (Global  (None, 144)                  0         ['block2b_activation[0][0]']  \n",
            " AveragePooling2D)                                                                                \n",
            "                                                                                                  \n",
            " block2b_se_reshape (Reshap  (None, 1, 1, 144)            0         ['block2b_se_squeeze[0][0]']  \n",
            " e)                                                                                               \n",
            "                                                                                                  \n",
            " block2b_se_reduce (Conv2D)  (None, 1, 1, 6)              870       ['block2b_se_reshape[0][0]']  \n",
            "                                                                                                  \n",
            " block2b_se_expand (Conv2D)  (None, 1, 1, 144)            1008      ['block2b_se_reduce[0][0]']   \n",
            "                                                                                                  \n",
            " block2b_se_excite (Multipl  (None, 56, 56, 144)          0         ['block2b_activation[0][0]',  \n",
            " y)                                                                  'block2b_se_expand[0][0]']   \n",
            "                                                                                                  \n",
            " block2b_project_conv (Conv  (None, 56, 56, 24)           3456      ['block2b_se_excite[0][0]']   \n",
            " 2D)                                                                                              \n",
            "                                                                                                  \n",
            " block2b_project_bn (BatchN  (None, 56, 56, 24)           96        ['block2b_project_conv[0][0]']\n",
            " ormalization)                                                                                    \n",
            "                                                                                                  \n",
            " block2b_drop (Dropout)      (None, 56, 56, 24)           0         ['block2b_project_bn[0][0]']  \n",
            "                                                                                                  \n",
            " block2b_add (Add)           (None, 56, 56, 24)           0         ['block2b_drop[0][0]',        \n",
            "                                                                     'block2a_project_bn[0][0]']  \n",
            "                                                                                                  \n",
            " block3a_expand_conv (Conv2  (None, 56, 56, 144)          3456      ['block2b_add[0][0]']         \n",
            " D)                                                                                               \n",
            "                                                                                                  \n",
            " block3a_expand_bn (BatchNo  (None, 56, 56, 144)          576       ['block3a_expand_conv[0][0]'] \n",
            " rmalization)                                                                                     \n",
            "                                                                                                  \n",
            " block3a_expand_activation   (None, 56, 56, 144)          0         ['block3a_expand_bn[0][0]']   \n",
            " (Activation)                                                                                     \n",
            "                                                                                                  \n",
            " block3a_dwconv_pad (ZeroPa  (None, 59, 59, 144)          0         ['block3a_expand_activation[0]\n",
            " dding2D)                                                           [0]']                         \n",
            "                                                                                                  \n",
            " block3a_dwconv (DepthwiseC  (None, 28, 28, 144)          3600      ['block3a_dwconv_pad[0][0]']  \n",
            " onv2D)                                                                                           \n",
            "                                                                                                  \n",
            " block3a_bn (BatchNormaliza  (None, 28, 28, 144)          576       ['block3a_dwconv[0][0]']      \n",
            " tion)                                                                                            \n",
            "                                                                                                  \n",
            " block3a_activation (Activa  (None, 28, 28, 144)          0         ['block3a_bn[0][0]']          \n",
            " tion)                                                                                            \n",
            "                                                                                                  \n",
            " block3a_se_squeeze (Global  (None, 144)                  0         ['block3a_activation[0][0]']  \n",
            " AveragePooling2D)                                                                                \n",
            "                                                                                                  \n",
            " block3a_se_reshape (Reshap  (None, 1, 1, 144)            0         ['block3a_se_squeeze[0][0]']  \n",
            " e)                                                                                               \n",
            "                                                                                                  \n",
            " block3a_se_reduce (Conv2D)  (None, 1, 1, 6)              870       ['block3a_se_reshape[0][0]']  \n",
            "                                                                                                  \n",
            " block3a_se_expand (Conv2D)  (None, 1, 1, 144)            1008      ['block3a_se_reduce[0][0]']   \n",
            "                                                                                                  \n",
            " block3a_se_excite (Multipl  (None, 28, 28, 144)          0         ['block3a_activation[0][0]',  \n",
            " y)                                                                  'block3a_se_expand[0][0]']   \n",
            "                                                                                                  \n",
            " block3a_project_conv (Conv  (None, 28, 28, 40)           5760      ['block3a_se_excite[0][0]']   \n",
            " 2D)                                                                                              \n",
            "                                                                                                  \n",
            " block3a_project_bn (BatchN  (None, 28, 28, 40)           160       ['block3a_project_conv[0][0]']\n",
            " ormalization)                                                                                    \n",
            "                                                                                                  \n",
            " block3b_expand_conv (Conv2  (None, 28, 28, 240)          9600      ['block3a_project_bn[0][0]']  \n",
            " D)                                                                                               \n",
            "                                                                                                  \n",
            " block3b_expand_bn (BatchNo  (None, 28, 28, 240)          960       ['block3b_expand_conv[0][0]'] \n",
            " rmalization)                                                                                     \n",
            "                                                                                                  \n",
            " block3b_expand_activation   (None, 28, 28, 240)          0         ['block3b_expand_bn[0][0]']   \n",
            " (Activation)                                                                                     \n",
            "                                                                                                  \n",
            " block3b_dwconv (DepthwiseC  (None, 28, 28, 240)          6000      ['block3b_expand_activation[0]\n",
            " onv2D)                                                             [0]']                         \n",
            "                                                                                                  \n",
            " block3b_bn (BatchNormaliza  (None, 28, 28, 240)          960       ['block3b_dwconv[0][0]']      \n",
            " tion)                                                                                            \n",
            "                                                                                                  \n",
            " block3b_activation (Activa  (None, 28, 28, 240)          0         ['block3b_bn[0][0]']          \n",
            " tion)                                                                                            \n",
            "                                                                                                  \n",
            " block3b_se_squeeze (Global  (None, 240)                  0         ['block3b_activation[0][0]']  \n",
            " AveragePooling2D)                                                                                \n",
            "                                                                                                  \n",
            " block3b_se_reshape (Reshap  (None, 1, 1, 240)            0         ['block3b_se_squeeze[0][0]']  \n",
            " e)                                                                                               \n",
            "                                                                                                  \n",
            " block3b_se_reduce (Conv2D)  (None, 1, 1, 10)             2410      ['block3b_se_reshape[0][0]']  \n",
            "                                                                                                  \n",
            " block3b_se_expand (Conv2D)  (None, 1, 1, 240)            2640      ['block3b_se_reduce[0][0]']   \n",
            "                                                                                                  \n",
            " block3b_se_excite (Multipl  (None, 28, 28, 240)          0         ['block3b_activation[0][0]',  \n",
            " y)                                                                  'block3b_se_expand[0][0]']   \n",
            "                                                                                                  \n",
            " block3b_project_conv (Conv  (None, 28, 28, 40)           9600      ['block3b_se_excite[0][0]']   \n",
            " 2D)                                                                                              \n",
            "                                                                                                  \n",
            " block3b_project_bn (BatchN  (None, 28, 28, 40)           160       ['block3b_project_conv[0][0]']\n",
            " ormalization)                                                                                    \n",
            "                                                                                                  \n",
            " block3b_drop (Dropout)      (None, 28, 28, 40)           0         ['block3b_project_bn[0][0]']  \n",
            "                                                                                                  \n",
            " block3b_add (Add)           (None, 28, 28, 40)           0         ['block3b_drop[0][0]',        \n",
            "                                                                     'block3a_project_bn[0][0]']  \n",
            "                                                                                                  \n",
            " block4a_expand_conv (Conv2  (None, 28, 28, 240)          9600      ['block3b_add[0][0]']         \n",
            " D)                                                                                               \n",
            "                                                                                                  \n",
            " block4a_expand_bn (BatchNo  (None, 28, 28, 240)          960       ['block4a_expand_conv[0][0]'] \n",
            " rmalization)                                                                                     \n",
            "                                                                                                  \n",
            " block4a_expand_activation   (None, 28, 28, 240)          0         ['block4a_expand_bn[0][0]']   \n",
            " (Activation)                                                                                     \n",
            "                                                                                                  \n",
            " block4a_dwconv_pad (ZeroPa  (None, 29, 29, 240)          0         ['block4a_expand_activation[0]\n",
            " dding2D)                                                           [0]']                         \n",
            "                                                                                                  \n",
            " block4a_dwconv (DepthwiseC  (None, 14, 14, 240)          2160      ['block4a_dwconv_pad[0][0]']  \n",
            " onv2D)                                                                                           \n",
            "                                                                                                  \n",
            " block4a_bn (BatchNormaliza  (None, 14, 14, 240)          960       ['block4a_dwconv[0][0]']      \n",
            " tion)                                                                                            \n",
            "                                                                                                  \n",
            " block4a_activation (Activa  (None, 14, 14, 240)          0         ['block4a_bn[0][0]']          \n",
            " tion)                                                                                            \n",
            "                                                                                                  \n",
            " block4a_se_squeeze (Global  (None, 240)                  0         ['block4a_activation[0][0]']  \n",
            " AveragePooling2D)                                                                                \n",
            "                                                                                                  \n",
            " block4a_se_reshape (Reshap  (None, 1, 1, 240)            0         ['block4a_se_squeeze[0][0]']  \n",
            " e)                                                                                               \n",
            "                                                                                                  \n",
            " block4a_se_reduce (Conv2D)  (None, 1, 1, 10)             2410      ['block4a_se_reshape[0][0]']  \n",
            "                                                                                                  \n",
            " block4a_se_expand (Conv2D)  (None, 1, 1, 240)            2640      ['block4a_se_reduce[0][0]']   \n",
            "                                                                                                  \n",
            " block4a_se_excite (Multipl  (None, 14, 14, 240)          0         ['block4a_activation[0][0]',  \n",
            " y)                                                                  'block4a_se_expand[0][0]']   \n",
            "                                                                                                  \n",
            " block4a_project_conv (Conv  (None, 14, 14, 80)           19200     ['block4a_se_excite[0][0]']   \n",
            " 2D)                                                                                              \n",
            "                                                                                                  \n",
            " block4a_project_bn (BatchN  (None, 14, 14, 80)           320       ['block4a_project_conv[0][0]']\n",
            " ormalization)                                                                                    \n",
            "                                                                                                  \n",
            " block4b_expand_conv (Conv2  (None, 14, 14, 480)          38400     ['block4a_project_bn[0][0]']  \n",
            " D)                                                                                               \n",
            "                                                                                                  \n",
            " block4b_expand_bn (BatchNo  (None, 14, 14, 480)          1920      ['block4b_expand_conv[0][0]'] \n",
            " rmalization)                                                                                     \n",
            "                                                                                                  \n",
            " block4b_expand_activation   (None, 14, 14, 480)          0         ['block4b_expand_bn[0][0]']   \n",
            " (Activation)                                                                                     \n",
            "                                                                                                  \n",
            " block4b_dwconv (DepthwiseC  (None, 14, 14, 480)          4320      ['block4b_expand_activation[0]\n",
            " onv2D)                                                             [0]']                         \n",
            "                                                                                                  \n",
            " block4b_bn (BatchNormaliza  (None, 14, 14, 480)          1920      ['block4b_dwconv[0][0]']      \n",
            " tion)                                                                                            \n",
            "                                                                                                  \n",
            " block4b_activation (Activa  (None, 14, 14, 480)          0         ['block4b_bn[0][0]']          \n",
            " tion)                                                                                            \n",
            "                                                                                                  \n",
            " block4b_se_squeeze (Global  (None, 480)                  0         ['block4b_activation[0][0]']  \n",
            " AveragePooling2D)                                                                                \n",
            "                                                                                                  \n",
            " block4b_se_reshape (Reshap  (None, 1, 1, 480)            0         ['block4b_se_squeeze[0][0]']  \n",
            " e)                                                                                               \n",
            "                                                                                                  \n",
            " block4b_se_reduce (Conv2D)  (None, 1, 1, 20)             9620      ['block4b_se_reshape[0][0]']  \n",
            "                                                                                                  \n",
            " block4b_se_expand (Conv2D)  (None, 1, 1, 480)            10080     ['block4b_se_reduce[0][0]']   \n",
            "                                                                                                  \n",
            " block4b_se_excite (Multipl  (None, 14, 14, 480)          0         ['block4b_activation[0][0]',  \n",
            " y)                                                                  'block4b_se_expand[0][0]']   \n",
            "                                                                                                  \n",
            " block4b_project_conv (Conv  (None, 14, 14, 80)           38400     ['block4b_se_excite[0][0]']   \n",
            " 2D)                                                                                              \n",
            "                                                                                                  \n",
            " block4b_project_bn (BatchN  (None, 14, 14, 80)           320       ['block4b_project_conv[0][0]']\n",
            " ormalization)                                                                                    \n",
            "                                                                                                  \n",
            " block4b_drop (Dropout)      (None, 14, 14, 80)           0         ['block4b_project_bn[0][0]']  \n",
            "                                                                                                  \n",
            " block4b_add (Add)           (None, 14, 14, 80)           0         ['block4b_drop[0][0]',        \n",
            "                                                                     'block4a_project_bn[0][0]']  \n",
            "                                                                                                  \n",
            " block4c_expand_conv (Conv2  (None, 14, 14, 480)          38400     ['block4b_add[0][0]']         \n",
            " D)                                                                                               \n",
            "                                                                                                  \n",
            " block4c_expand_bn (BatchNo  (None, 14, 14, 480)          1920      ['block4c_expand_conv[0][0]'] \n",
            " rmalization)                                                                                     \n",
            "                                                                                                  \n",
            " block4c_expand_activation   (None, 14, 14, 480)          0         ['block4c_expand_bn[0][0]']   \n",
            " (Activation)                                                                                     \n",
            "                                                                                                  \n",
            " block4c_dwconv (DepthwiseC  (None, 14, 14, 480)          4320      ['block4c_expand_activation[0]\n",
            " onv2D)                                                             [0]']                         \n",
            "                                                                                                  \n",
            " block4c_bn (BatchNormaliza  (None, 14, 14, 480)          1920      ['block4c_dwconv[0][0]']      \n",
            " tion)                                                                                            \n",
            "                                                                                                  \n",
            " block4c_activation (Activa  (None, 14, 14, 480)          0         ['block4c_bn[0][0]']          \n",
            " tion)                                                                                            \n",
            "                                                                                                  \n",
            " block4c_se_squeeze (Global  (None, 480)                  0         ['block4c_activation[0][0]']  \n",
            " AveragePooling2D)                                                                                \n",
            "                                                                                                  \n",
            " block4c_se_reshape (Reshap  (None, 1, 1, 480)            0         ['block4c_se_squeeze[0][0]']  \n",
            " e)                                                                                               \n",
            "                                                                                                  \n",
            " block4c_se_reduce (Conv2D)  (None, 1, 1, 20)             9620      ['block4c_se_reshape[0][0]']  \n",
            "                                                                                                  \n",
            " block4c_se_expand (Conv2D)  (None, 1, 1, 480)            10080     ['block4c_se_reduce[0][0]']   \n",
            "                                                                                                  \n",
            " block4c_se_excite (Multipl  (None, 14, 14, 480)          0         ['block4c_activation[0][0]',  \n",
            " y)                                                                  'block4c_se_expand[0][0]']   \n",
            "                                                                                                  \n",
            " block4c_project_conv (Conv  (None, 14, 14, 80)           38400     ['block4c_se_excite[0][0]']   \n",
            " 2D)                                                                                              \n",
            "                                                                                                  \n",
            " block4c_project_bn (BatchN  (None, 14, 14, 80)           320       ['block4c_project_conv[0][0]']\n",
            " ormalization)                                                                                    \n",
            "                                                                                                  \n",
            " block4c_drop (Dropout)      (None, 14, 14, 80)           0         ['block4c_project_bn[0][0]']  \n",
            "                                                                                                  \n",
            " block4c_add (Add)           (None, 14, 14, 80)           0         ['block4c_drop[0][0]',        \n",
            "                                                                     'block4b_add[0][0]']         \n",
            "                                                                                                  \n",
            " block5a_expand_conv (Conv2  (None, 14, 14, 480)          38400     ['block4c_add[0][0]']         \n",
            " D)                                                                                               \n",
            "                                                                                                  \n",
            " block5a_expand_bn (BatchNo  (None, 14, 14, 480)          1920      ['block5a_expand_conv[0][0]'] \n",
            " rmalization)                                                                                     \n",
            "                                                                                                  \n",
            " block5a_expand_activation   (None, 14, 14, 480)          0         ['block5a_expand_bn[0][0]']   \n",
            " (Activation)                                                                                     \n",
            "                                                                                                  \n",
            " block5a_dwconv (DepthwiseC  (None, 14, 14, 480)          12000     ['block5a_expand_activation[0]\n",
            " onv2D)                                                             [0]']                         \n",
            "                                                                                                  \n",
            " block5a_bn (BatchNormaliza  (None, 14, 14, 480)          1920      ['block5a_dwconv[0][0]']      \n",
            " tion)                                                                                            \n",
            "                                                                                                  \n",
            " block5a_activation (Activa  (None, 14, 14, 480)          0         ['block5a_bn[0][0]']          \n",
            " tion)                                                                                            \n",
            "                                                                                                  \n",
            " block5a_se_squeeze (Global  (None, 480)                  0         ['block5a_activation[0][0]']  \n",
            " AveragePooling2D)                                                                                \n",
            "                                                                                                  \n",
            " block5a_se_reshape (Reshap  (None, 1, 1, 480)            0         ['block5a_se_squeeze[0][0]']  \n",
            " e)                                                                                               \n",
            "                                                                                                  \n",
            " block5a_se_reduce (Conv2D)  (None, 1, 1, 20)             9620      ['block5a_se_reshape[0][0]']  \n",
            "                                                                                                  \n",
            " block5a_se_expand (Conv2D)  (None, 1, 1, 480)            10080     ['block5a_se_reduce[0][0]']   \n",
            "                                                                                                  \n",
            " block5a_se_excite (Multipl  (None, 14, 14, 480)          0         ['block5a_activation[0][0]',  \n",
            " y)                                                                  'block5a_se_expand[0][0]']   \n",
            "                                                                                                  \n",
            " block5a_project_conv (Conv  (None, 14, 14, 112)          53760     ['block5a_se_excite[0][0]']   \n",
            " 2D)                                                                                              \n",
            "                                                                                                  \n",
            " block5a_project_bn (BatchN  (None, 14, 14, 112)          448       ['block5a_project_conv[0][0]']\n",
            " ormalization)                                                                                    \n",
            "                                                                                                  \n",
            " block5b_expand_conv (Conv2  (None, 14, 14, 672)          75264     ['block5a_project_bn[0][0]']  \n",
            " D)                                                                                               \n",
            "                                                                                                  \n",
            " block5b_expand_bn (BatchNo  (None, 14, 14, 672)          2688      ['block5b_expand_conv[0][0]'] \n",
            " rmalization)                                                                                     \n",
            "                                                                                                  \n",
            " block5b_expand_activation   (None, 14, 14, 672)          0         ['block5b_expand_bn[0][0]']   \n",
            " (Activation)                                                                                     \n",
            "                                                                                                  \n",
            " block5b_dwconv (DepthwiseC  (None, 14, 14, 672)          16800     ['block5b_expand_activation[0]\n",
            " onv2D)                                                             [0]']                         \n",
            "                                                                                                  \n",
            " block5b_bn (BatchNormaliza  (None, 14, 14, 672)          2688      ['block5b_dwconv[0][0]']      \n",
            " tion)                                                                                            \n",
            "                                                                                                  \n",
            " block5b_activation (Activa  (None, 14, 14, 672)          0         ['block5b_bn[0][0]']          \n",
            " tion)                                                                                            \n",
            "                                                                                                  \n",
            " block5b_se_squeeze (Global  (None, 672)                  0         ['block5b_activation[0][0]']  \n",
            " AveragePooling2D)                                                                                \n",
            "                                                                                                  \n",
            " block5b_se_reshape (Reshap  (None, 1, 1, 672)            0         ['block5b_se_squeeze[0][0]']  \n",
            " e)                                                                                               \n",
            "                                                                                                  \n",
            " block5b_se_reduce (Conv2D)  (None, 1, 1, 28)             18844     ['block5b_se_reshape[0][0]']  \n",
            "                                                                                                  \n",
            " block5b_se_expand (Conv2D)  (None, 1, 1, 672)            19488     ['block5b_se_reduce[0][0]']   \n",
            "                                                                                                  \n",
            " block5b_se_excite (Multipl  (None, 14, 14, 672)          0         ['block5b_activation[0][0]',  \n",
            " y)                                                                  'block5b_se_expand[0][0]']   \n",
            "                                                                                                  \n",
            " block5b_project_conv (Conv  (None, 14, 14, 112)          75264     ['block5b_se_excite[0][0]']   \n",
            " 2D)                                                                                              \n",
            "                                                                                                  \n",
            " block5b_project_bn (BatchN  (None, 14, 14, 112)          448       ['block5b_project_conv[0][0]']\n",
            " ormalization)                                                                                    \n",
            "                                                                                                  \n",
            " block5b_drop (Dropout)      (None, 14, 14, 112)          0         ['block5b_project_bn[0][0]']  \n",
            "                                                                                                  \n",
            " block5b_add (Add)           (None, 14, 14, 112)          0         ['block5b_drop[0][0]',        \n",
            "                                                                     'block5a_project_bn[0][0]']  \n",
            "                                                                                                  \n",
            " block5c_expand_conv (Conv2  (None, 14, 14, 672)          75264     ['block5b_add[0][0]']         \n",
            " D)                                                                                               \n",
            "                                                                                                  \n",
            " block5c_expand_bn (BatchNo  (None, 14, 14, 672)          2688      ['block5c_expand_conv[0][0]'] \n",
            " rmalization)                                                                                     \n",
            "                                                                                                  \n",
            " block5c_expand_activation   (None, 14, 14, 672)          0         ['block5c_expand_bn[0][0]']   \n",
            " (Activation)                                                                                     \n",
            "                                                                                                  \n",
            " block5c_dwconv (DepthwiseC  (None, 14, 14, 672)          16800     ['block5c_expand_activation[0]\n",
            " onv2D)                                                             [0]']                         \n",
            "                                                                                                  \n",
            " block5c_bn (BatchNormaliza  (None, 14, 14, 672)          2688      ['block5c_dwconv[0][0]']      \n",
            " tion)                                                                                            \n",
            "                                                                                                  \n",
            " block5c_activation (Activa  (None, 14, 14, 672)          0         ['block5c_bn[0][0]']          \n",
            " tion)                                                                                            \n",
            "                                                                                                  \n",
            " block5c_se_squeeze (Global  (None, 672)                  0         ['block5c_activation[0][0]']  \n",
            " AveragePooling2D)                                                                                \n",
            "                                                                                                  \n",
            " block5c_se_reshape (Reshap  (None, 1, 1, 672)            0         ['block5c_se_squeeze[0][0]']  \n",
            " e)                                                                                               \n",
            "                                                                                                  \n",
            " block5c_se_reduce (Conv2D)  (None, 1, 1, 28)             18844     ['block5c_se_reshape[0][0]']  \n",
            "                                                                                                  \n",
            " block5c_se_expand (Conv2D)  (None, 1, 1, 672)            19488     ['block5c_se_reduce[0][0]']   \n",
            "                                                                                                  \n",
            " block5c_se_excite (Multipl  (None, 14, 14, 672)          0         ['block5c_activation[0][0]',  \n",
            " y)                                                                  'block5c_se_expand[0][0]']   \n",
            "                                                                                                  \n",
            " block5c_project_conv (Conv  (None, 14, 14, 112)          75264     ['block5c_se_excite[0][0]']   \n",
            " 2D)                                                                                              \n",
            "                                                                                                  \n",
            " block5c_project_bn (BatchN  (None, 14, 14, 112)          448       ['block5c_project_conv[0][0]']\n",
            " ormalization)                                                                                    \n",
            "                                                                                                  \n",
            " block5c_drop (Dropout)      (None, 14, 14, 112)          0         ['block5c_project_bn[0][0]']  \n",
            "                                                                                                  \n",
            " block5c_add (Add)           (None, 14, 14, 112)          0         ['block5c_drop[0][0]',        \n",
            "                                                                     'block5b_add[0][0]']         \n",
            "                                                                                                  \n",
            " block6a_expand_conv (Conv2  (None, 14, 14, 672)          75264     ['block5c_add[0][0]']         \n",
            " D)                                                                                               \n",
            "                                                                                                  \n",
            " block6a_expand_bn (BatchNo  (None, 14, 14, 672)          2688      ['block6a_expand_conv[0][0]'] \n",
            " rmalization)                                                                                     \n",
            "                                                                                                  \n",
            " block6a_expand_activation   (None, 14, 14, 672)          0         ['block6a_expand_bn[0][0]']   \n",
            " (Activation)                                                                                     \n",
            "                                                                                                  \n",
            " block6a_dwconv_pad (ZeroPa  (None, 17, 17, 672)          0         ['block6a_expand_activation[0]\n",
            " dding2D)                                                           [0]']                         \n",
            "                                                                                                  \n",
            " block6a_dwconv (DepthwiseC  (None, 7, 7, 672)            16800     ['block6a_dwconv_pad[0][0]']  \n",
            " onv2D)                                                                                           \n",
            "                                                                                                  \n",
            " block6a_bn (BatchNormaliza  (None, 7, 7, 672)            2688      ['block6a_dwconv[0][0]']      \n",
            " tion)                                                                                            \n",
            "                                                                                                  \n",
            " block6a_activation (Activa  (None, 7, 7, 672)            0         ['block6a_bn[0][0]']          \n",
            " tion)                                                                                            \n",
            "                                                                                                  \n",
            " block6a_se_squeeze (Global  (None, 672)                  0         ['block6a_activation[0][0]']  \n",
            " AveragePooling2D)                                                                                \n",
            "                                                                                                  \n",
            " block6a_se_reshape (Reshap  (None, 1, 1, 672)            0         ['block6a_se_squeeze[0][0]']  \n",
            " e)                                                                                               \n",
            "                                                                                                  \n",
            " block6a_se_reduce (Conv2D)  (None, 1, 1, 28)             18844     ['block6a_se_reshape[0][0]']  \n",
            "                                                                                                  \n",
            " block6a_se_expand (Conv2D)  (None, 1, 1, 672)            19488     ['block6a_se_reduce[0][0]']   \n",
            "                                                                                                  \n",
            " block6a_se_excite (Multipl  (None, 7, 7, 672)            0         ['block6a_activation[0][0]',  \n",
            " y)                                                                  'block6a_se_expand[0][0]']   \n",
            "                                                                                                  \n",
            " block6a_project_conv (Conv  (None, 7, 7, 192)            129024    ['block6a_se_excite[0][0]']   \n",
            " 2D)                                                                                              \n",
            "                                                                                                  \n",
            " block6a_project_bn (BatchN  (None, 7, 7, 192)            768       ['block6a_project_conv[0][0]']\n",
            " ormalization)                                                                                    \n",
            "                                                                                                  \n",
            " block6b_expand_conv (Conv2  (None, 7, 7, 1152)           221184    ['block6a_project_bn[0][0]']  \n",
            " D)                                                                                               \n",
            "                                                                                                  \n",
            " block6b_expand_bn (BatchNo  (None, 7, 7, 1152)           4608      ['block6b_expand_conv[0][0]'] \n",
            " rmalization)                                                                                     \n",
            "                                                                                                  \n",
            " block6b_expand_activation   (None, 7, 7, 1152)           0         ['block6b_expand_bn[0][0]']   \n",
            " (Activation)                                                                                     \n",
            "                                                                                                  \n",
            " block6b_dwconv (DepthwiseC  (None, 7, 7, 1152)           28800     ['block6b_expand_activation[0]\n",
            " onv2D)                                                             [0]']                         \n",
            "                                                                                                  \n",
            " block6b_bn (BatchNormaliza  (None, 7, 7, 1152)           4608      ['block6b_dwconv[0][0]']      \n",
            " tion)                                                                                            \n",
            "                                                                                                  \n",
            " block6b_activation (Activa  (None, 7, 7, 1152)           0         ['block6b_bn[0][0]']          \n",
            " tion)                                                                                            \n",
            "                                                                                                  \n",
            " block6b_se_squeeze (Global  (None, 1152)                 0         ['block6b_activation[0][0]']  \n",
            " AveragePooling2D)                                                                                \n",
            "                                                                                                  \n",
            " block6b_se_reshape (Reshap  (None, 1, 1, 1152)           0         ['block6b_se_squeeze[0][0]']  \n",
            " e)                                                                                               \n",
            "                                                                                                  \n",
            " block6b_se_reduce (Conv2D)  (None, 1, 1, 48)             55344     ['block6b_se_reshape[0][0]']  \n",
            "                                                                                                  \n",
            " block6b_se_expand (Conv2D)  (None, 1, 1, 1152)           56448     ['block6b_se_reduce[0][0]']   \n",
            "                                                                                                  \n",
            " block6b_se_excite (Multipl  (None, 7, 7, 1152)           0         ['block6b_activation[0][0]',  \n",
            " y)                                                                  'block6b_se_expand[0][0]']   \n",
            "                                                                                                  \n",
            " block6b_project_conv (Conv  (None, 7, 7, 192)            221184    ['block6b_se_excite[0][0]']   \n",
            " 2D)                                                                                              \n",
            "                                                                                                  \n",
            " block6b_project_bn (BatchN  (None, 7, 7, 192)            768       ['block6b_project_conv[0][0]']\n",
            " ormalization)                                                                                    \n",
            "                                                                                                  \n",
            " block6b_drop (Dropout)      (None, 7, 7, 192)            0         ['block6b_project_bn[0][0]']  \n",
            "                                                                                                  \n",
            " block6b_add (Add)           (None, 7, 7, 192)            0         ['block6b_drop[0][0]',        \n",
            "                                                                     'block6a_project_bn[0][0]']  \n",
            "                                                                                                  \n",
            " block6c_expand_conv (Conv2  (None, 7, 7, 1152)           221184    ['block6b_add[0][0]']         \n",
            " D)                                                                                               \n",
            "                                                                                                  \n",
            " block6c_expand_bn (BatchNo  (None, 7, 7, 1152)           4608      ['block6c_expand_conv[0][0]'] \n",
            " rmalization)                                                                                     \n",
            "                                                                                                  \n",
            " block6c_expand_activation   (None, 7, 7, 1152)           0         ['block6c_expand_bn[0][0]']   \n",
            " (Activation)                                                                                     \n",
            "                                                                                                  \n",
            " block6c_dwconv (DepthwiseC  (None, 7, 7, 1152)           28800     ['block6c_expand_activation[0]\n",
            " onv2D)                                                             [0]']                         \n",
            "                                                                                                  \n",
            " block6c_bn (BatchNormaliza  (None, 7, 7, 1152)           4608      ['block6c_dwconv[0][0]']      \n",
            " tion)                                                                                            \n",
            "                                                                                                  \n",
            " block6c_activation (Activa  (None, 7, 7, 1152)           0         ['block6c_bn[0][0]']          \n",
            " tion)                                                                                            \n",
            "                                                                                                  \n",
            " block6c_se_squeeze (Global  (None, 1152)                 0         ['block6c_activation[0][0]']  \n",
            " AveragePooling2D)                                                                                \n",
            "                                                                                                  \n",
            " block6c_se_reshape (Reshap  (None, 1, 1, 1152)           0         ['block6c_se_squeeze[0][0]']  \n",
            " e)                                                                                               \n",
            "                                                                                                  \n",
            " block6c_se_reduce (Conv2D)  (None, 1, 1, 48)             55344     ['block6c_se_reshape[0][0]']  \n",
            "                                                                                                  \n",
            " block6c_se_expand (Conv2D)  (None, 1, 1, 1152)           56448     ['block6c_se_reduce[0][0]']   \n",
            "                                                                                                  \n",
            " block6c_se_excite (Multipl  (None, 7, 7, 1152)           0         ['block6c_activation[0][0]',  \n",
            " y)                                                                  'block6c_se_expand[0][0]']   \n",
            "                                                                                                  \n",
            " block6c_project_conv (Conv  (None, 7, 7, 192)            221184    ['block6c_se_excite[0][0]']   \n",
            " 2D)                                                                                              \n",
            "                                                                                                  \n",
            " block6c_project_bn (BatchN  (None, 7, 7, 192)            768       ['block6c_project_conv[0][0]']\n",
            " ormalization)                                                                                    \n",
            "                                                                                                  \n",
            " block6c_drop (Dropout)      (None, 7, 7, 192)            0         ['block6c_project_bn[0][0]']  \n",
            "                                                                                                  \n",
            " block6c_add (Add)           (None, 7, 7, 192)            0         ['block6c_drop[0][0]',        \n",
            "                                                                     'block6b_add[0][0]']         \n",
            "                                                                                                  \n",
            " block6d_expand_conv (Conv2  (None, 7, 7, 1152)           221184    ['block6c_add[0][0]']         \n",
            " D)                                                                                               \n",
            "                                                                                                  \n",
            " block6d_expand_bn (BatchNo  (None, 7, 7, 1152)           4608      ['block6d_expand_conv[0][0]'] \n",
            " rmalization)                                                                                     \n",
            "                                                                                                  \n",
            " block6d_expand_activation   (None, 7, 7, 1152)           0         ['block6d_expand_bn[0][0]']   \n",
            " (Activation)                                                                                     \n",
            "                                                                                                  \n",
            " block6d_dwconv (DepthwiseC  (None, 7, 7, 1152)           28800     ['block6d_expand_activation[0]\n",
            " onv2D)                                                             [0]']                         \n",
            "                                                                                                  \n",
            " block6d_bn (BatchNormaliza  (None, 7, 7, 1152)           4608      ['block6d_dwconv[0][0]']      \n",
            " tion)                                                                                            \n",
            "                                                                                                  \n",
            " block6d_activation (Activa  (None, 7, 7, 1152)           0         ['block6d_bn[0][0]']          \n",
            " tion)                                                                                            \n",
            "                                                                                                  \n",
            " block6d_se_squeeze (Global  (None, 1152)                 0         ['block6d_activation[0][0]']  \n",
            " AveragePooling2D)                                                                                \n",
            "                                                                                                  \n",
            " block6d_se_reshape (Reshap  (None, 1, 1, 1152)           0         ['block6d_se_squeeze[0][0]']  \n",
            " e)                                                                                               \n",
            "                                                                                                  \n",
            " block6d_se_reduce (Conv2D)  (None, 1, 1, 48)             55344     ['block6d_se_reshape[0][0]']  \n",
            "                                                                                                  \n",
            " block6d_se_expand (Conv2D)  (None, 1, 1, 1152)           56448     ['block6d_se_reduce[0][0]']   \n",
            "                                                                                                  \n",
            " block6d_se_excite (Multipl  (None, 7, 7, 1152)           0         ['block6d_activation[0][0]',  \n",
            " y)                                                                  'block6d_se_expand[0][0]']   \n",
            "                                                                                                  \n",
            " block6d_project_conv (Conv  (None, 7, 7, 192)            221184    ['block6d_se_excite[0][0]']   \n",
            " 2D)                                                                                              \n",
            "                                                                                                  \n",
            " block6d_project_bn (BatchN  (None, 7, 7, 192)            768       ['block6d_project_conv[0][0]']\n",
            " ormalization)                                                                                    \n",
            "                                                                                                  \n",
            " block6d_drop (Dropout)      (None, 7, 7, 192)            0         ['block6d_project_bn[0][0]']  \n",
            "                                                                                                  \n",
            " block6d_add (Add)           (None, 7, 7, 192)            0         ['block6d_drop[0][0]',        \n",
            "                                                                     'block6c_add[0][0]']         \n",
            "                                                                                                  \n",
            " block7a_expand_conv (Conv2  (None, 7, 7, 1152)           221184    ['block6d_add[0][0]']         \n",
            " D)                                                                                               \n",
            "                                                                                                  \n",
            " block7a_expand_bn (BatchNo  (None, 7, 7, 1152)           4608      ['block7a_expand_conv[0][0]'] \n",
            " rmalization)                                                                                     \n",
            "                                                                                                  \n",
            " block7a_expand_activation   (None, 7, 7, 1152)           0         ['block7a_expand_bn[0][0]']   \n",
            " (Activation)                                                                                     \n",
            "                                                                                                  \n",
            " block7a_dwconv (DepthwiseC  (None, 7, 7, 1152)           10368     ['block7a_expand_activation[0]\n",
            " onv2D)                                                             [0]']                         \n",
            "                                                                                                  \n",
            " block7a_bn (BatchNormaliza  (None, 7, 7, 1152)           4608      ['block7a_dwconv[0][0]']      \n",
            " tion)                                                                                            \n",
            "                                                                                                  \n",
            " block7a_activation (Activa  (None, 7, 7, 1152)           0         ['block7a_bn[0][0]']          \n",
            " tion)                                                                                            \n",
            "                                                                                                  \n",
            " block7a_se_squeeze (Global  (None, 1152)                 0         ['block7a_activation[0][0]']  \n",
            " AveragePooling2D)                                                                                \n",
            "                                                                                                  \n",
            " block7a_se_reshape (Reshap  (None, 1, 1, 1152)           0         ['block7a_se_squeeze[0][0]']  \n",
            " e)                                                                                               \n",
            "                                                                                                  \n",
            " block7a_se_reduce (Conv2D)  (None, 1, 1, 48)             55344     ['block7a_se_reshape[0][0]']  \n",
            "                                                                                                  \n",
            " block7a_se_expand (Conv2D)  (None, 1, 1, 1152)           56448     ['block7a_se_reduce[0][0]']   \n",
            "                                                                                                  \n",
            " block7a_se_excite (Multipl  (None, 7, 7, 1152)           0         ['block7a_activation[0][0]',  \n",
            " y)                                                                  'block7a_se_expand[0][0]']   \n",
            "                                                                                                  \n",
            " block7a_project_conv (Conv  (None, 7, 7, 320)            368640    ['block7a_se_excite[0][0]']   \n",
            " 2D)                                                                                              \n",
            "                                                                                                  \n",
            " block7a_project_bn (BatchN  (None, 7, 7, 320)            1280      ['block7a_project_conv[0][0]']\n",
            " ormalization)                                                                                    \n",
            "                                                                                                  \n",
            " top_conv (Conv2D)           (None, 7, 7, 1280)           409600    ['block7a_project_bn[0][0]']  \n",
            "                                                                                                  \n",
            " top_bn (BatchNormalization  (None, 7, 7, 1280)           5120      ['top_conv[0][0]']            \n",
            " )                                                                                                \n",
            "                                                                                                  \n",
            " top_activation (Activation  (None, 7, 7, 1280)           0         ['top_bn[0][0]']              \n",
            " )                                                                                                \n",
            "                                                                                                  \n",
            "==================================================================================================\n",
            "Total params: 4049571 (15.45 MB)\n",
            "Trainable params: 4007548 (15.29 MB)\n",
            "Non-trainable params: 42023 (164.16 KB)\n",
            "__________________________________________________________________________________________________\n"
          ]
        }
      ]
    },
    {
      "cell_type": "code",
      "source": [
        "print(\"Input dimensions: \", train_x.shape[1:])"
      ],
      "metadata": {
        "colab": {
          "base_uri": "https://localhost:8080/"
        },
        "id": "Btpf4RTj-z4x",
        "outputId": "ea767949-3f12-4020-ad58-2657fcc7529a"
      },
      "execution_count": null,
      "outputs": [
        {
          "output_type": "stream",
          "name": "stdout",
          "text": [
            "Input dimensions:  (224, 224, 3)\n"
          ]
        }
      ]
    },
    {
      "metadata": {
        "id": "y41GiiYTYoaf",
        "colab": {
          "base_uri": "https://localhost:8080/"
        },
        "outputId": "b4224bc6-acec-4463-f5c1-e140299985f1"
      },
      "cell_type": "code",
      "source": [
        "# build the network\n",
        "print(\"Input dimensions: \", train_x.shape[1:])\n",
        "\n",
        "\n",
        "model = Sequential([\n",
        "\n",
        "\n",
        "        Conv2D(32, (3, 3), input_shape=train_x.shape[1:]),\n",
        "        Activation('relu'),\n",
        "        MaxPooling2D(pool_size=(2, 2)),\n",
        "\n",
        "        Conv2D(64, (3, 3), activation='relu'),\n",
        "        MaxPooling2D(pool_size=(2, 2)),\n",
        "        Dropout(0.25),\n",
        "\n",
        "        Conv2D(64, (3, 3), activation='relu'),\n",
        "        MaxPooling2D(pool_size=(2, 2)),\n",
        "\n",
        "        Conv2D(32, (3, 3)),\n",
        "        Activation('relu'),\n",
        "        MaxPooling2D(pool_size=(2, 2)),\n",
        "        Dropout(0.25),\n",
        "\n",
        "\n",
        "\n",
        "        Flatten(),\n",
        "        Dense(256, activation='relu'),\n",
        "        Dropout(0.5),\n",
        "\n",
        "        Dense(128, activation='relu'),\n",
        "        Dropout(0.3),\n",
        "\n",
        "        Dense(3, activation='softmax'),\n",
        "\n",
        "\n",
        "])\n",
        "\n",
        "\n",
        "model.summary()"
      ],
      "execution_count": null,
      "outputs": [
        {
          "output_type": "stream",
          "name": "stdout",
          "text": [
            "Input dimensions:  (224, 224, 3)\n",
            "Model: \"sequential_7\"\n",
            "_________________________________________________________________\n",
            " Layer (type)                Output Shape              Param #   \n",
            "=================================================================\n",
            " conv2d_4 (Conv2D)           (None, 222, 222, 32)      896       \n",
            "                                                                 \n",
            " activation_2 (Activation)   (None, 222, 222, 32)      0         \n",
            "                                                                 \n",
            " max_pooling2d_4 (MaxPoolin  (None, 111, 111, 32)      0         \n",
            " g2D)                                                            \n",
            "                                                                 \n",
            " conv2d_5 (Conv2D)           (None, 109, 109, 64)      18496     \n",
            "                                                                 \n",
            " max_pooling2d_5 (MaxPoolin  (None, 54, 54, 64)        0         \n",
            " g2D)                                                            \n",
            "                                                                 \n",
            " dropout_20 (Dropout)        (None, 54, 54, 64)        0         \n",
            "                                                                 \n",
            " conv2d_6 (Conv2D)           (None, 52, 52, 64)        36928     \n",
            "                                                                 \n",
            " max_pooling2d_6 (MaxPoolin  (None, 26, 26, 64)        0         \n",
            " g2D)                                                            \n",
            "                                                                 \n",
            " conv2d_7 (Conv2D)           (None, 24, 24, 32)        18464     \n",
            "                                                                 \n",
            " activation_3 (Activation)   (None, 24, 24, 32)        0         \n",
            "                                                                 \n",
            " max_pooling2d_7 (MaxPoolin  (None, 12, 12, 32)        0         \n",
            " g2D)                                                            \n",
            "                                                                 \n",
            " dropout_21 (Dropout)        (None, 12, 12, 32)        0         \n",
            "                                                                 \n",
            " flatten_6 (Flatten)         (None, 4608)              0         \n",
            "                                                                 \n",
            " dense_25 (Dense)            (None, 256)               1179904   \n",
            "                                                                 \n",
            " dropout_22 (Dropout)        (None, 256)               0         \n",
            "                                                                 \n",
            " dense_26 (Dense)            (None, 128)               32896     \n",
            "                                                                 \n",
            " dropout_23 (Dropout)        (None, 128)               0         \n",
            "                                                                 \n",
            " dense_27 (Dense)            (None, 3)                 387       \n",
            "                                                                 \n",
            "=================================================================\n",
            "Total params: 1287971 (4.91 MB)\n",
            "Trainable params: 1287971 (4.91 MB)\n",
            "Non-trainable params: 0 (0.00 Byte)\n",
            "_________________________________________________________________\n"
          ]
        }
      ]
    },
    {
      "cell_type": "markdown",
      "source": [
        "### Callbacks, Optimization & Loss functions"
      ],
      "metadata": {
        "id": "S8D2ya_9X9OU"
      }
    },
    {
      "cell_type": "code",
      "source": [
        "from tensorflow.keras.callbacks import ModelCheckpoint, EarlyStopping, ReduceLROnPlateau\n",
        "np.random.seed(0)"
      ],
      "metadata": {
        "id": "6aujP_99ZYB6"
      },
      "execution_count": null,
      "outputs": []
    },
    {
      "cell_type": "code",
      "source": [
        "OPT = keras.optimizers.Adam(learning_rate=0.001)"
      ],
      "metadata": {
        "id": "Gou41QnBYFNf"
      },
      "execution_count": null,
      "outputs": []
    },
    {
      "cell_type": "code",
      "source": [
        "LOSS = \"categorical_crossentropy\""
      ],
      "metadata": {
        "id": "Y0Qo3QkiYE6t"
      },
      "execution_count": null,
      "outputs": []
    },
    {
      "cell_type": "code",
      "source": [
        "# Define callbacks.\n",
        "checkpoint = ModelCheckpoint('best_model',\n",
        "                                      monitor='val_accuracy',\n",
        "                                      mode='max',\n",
        "                                      save_best_only=True)\n",
        "\n",
        "early_stopping = keras.callbacks.EarlyStopping(monitor='val_accuracy', patience=15)\n"
      ],
      "metadata": {
        "id": "aNST5CelYwai"
      },
      "execution_count": null,
      "outputs": []
    },
    {
      "cell_type": "code",
      "source": [
        "CALLBACKS = [checkpoint, early_stopping]"
      ],
      "metadata": {
        "id": "k2F07w8iYhLL"
      },
      "execution_count": null,
      "outputs": []
    },
    {
      "cell_type": "code",
      "source": [
        "CALLBACKS"
      ],
      "metadata": {
        "colab": {
          "base_uri": "https://localhost:8080/"
        },
        "id": "8Zh5kkpuaBrc",
        "outputId": "56d07981-b6ff-429d-9929-f677873faf45"
      },
      "execution_count": null,
      "outputs": [
        {
          "output_type": "execute_result",
          "data": {
            "text/plain": [
              "[<keras.src.callbacks.ModelCheckpoint at 0x7a96c10e9ab0>,\n",
              " <keras.src.callbacks.EarlyStopping at 0x7a963655baf0>]"
            ]
          },
          "metadata": {},
          "execution_count": 109
        }
      ]
    },
    {
      "cell_type": "markdown",
      "source": [
        "### Metrics"
      ],
      "metadata": {
        "id": "tX7YFTKAimnO"
      }
    },
    {
      "cell_type": "code",
      "source": [
        "from tensorflow.keras import metrics"
      ],
      "metadata": {
        "id": "Lk8ehBkUidYs"
      },
      "execution_count": null,
      "outputs": []
    },
    {
      "cell_type": "code",
      "source": [
        "from tensorflow_addons.metrics import F1Score"
      ],
      "metadata": {
        "id": "VyC6JjAfn1rF"
      },
      "execution_count": null,
      "outputs": []
    },
    {
      "cell_type": "code",
      "source": [
        "metrics_model =   ['accuracy',\n",
        "                    metrics.Precision(name='precision'),\n",
        "                    metrics.Recall(name='recall'),\n",
        "                    metrics.AUC(name='auc'),\n",
        "                    F1Score(num_classes=3, name='f1_score')]"
      ],
      "metadata": {
        "id": "G5N-wHDiiUWj"
      },
      "execution_count": null,
      "outputs": []
    },
    {
      "cell_type": "markdown",
      "source": [
        "### Compilando o Modelo"
      ],
      "metadata": {
        "id": "ppVQY4uxikZC"
      }
    },
    {
      "cell_type": "code",
      "source": [
        "# compile the model to use categorical cross-entropy loss function and adadelta optimizer\n",
        "# You can then compile and train the model using the generated data generators\n",
        "# model.compile(optimizer='adam', loss='categorical_crossentropy', metrics=['accuracy'])\n",
        "\n",
        "\n",
        "model.compile(loss=LOSS,\n",
        "              optimizer=OPT,\n",
        "              metrics=metrics_model\n",
        "              )"
      ],
      "metadata": {
        "id": "h0j0s6m2AooV"
      },
      "execution_count": null,
      "outputs": []
    },
    {
      "metadata": {
        "id": "CIqHecNAYoaj",
        "colab": {
          "base_uri": "https://localhost:8080/"
        },
        "outputId": "e14e10b1-1d06-47aa-b8eb-db7c60552f03"
      },
      "cell_type": "code",
      "source": [
        "\n",
        "# model.fit(, epochs=epochs, validation_data=val_generator)\n",
        "\n",
        "\n",
        "\n",
        "history = model.fit(train_generator, batch_size=16, callbacks=CALLBACKS, epochs=100, validation_data=(val_generator))"
      ],
      "execution_count": null,
      "outputs": [
        {
          "output_type": "stream",
          "name": "stdout",
          "text": [
            "Epoch 1/100\n",
            "130/130 [==============================] - 55s 410ms/step - loss: 0.7128 - accuracy: 0.6360 - precision: 0.6446 - recall: 0.6138 - auc: 0.8353 - f1_score: 0.6594 - val_loss: 0.6168 - val_accuracy: 0.6924 - val_precision: 0.6921 - val_recall: 0.6914 - val_auc: 0.8606 - val_f1_score: 0.7204\n",
            "Epoch 2/100\n",
            "130/130 [==============================] - 53s 408ms/step - loss: 0.6332 - accuracy: 0.6577 - precision: 0.6602 - recall: 0.6476 - auc: 0.8558 - f1_score: 0.6828 - val_loss: 0.6020 - val_accuracy: 0.6712 - val_precision: 0.6708 - val_recall: 0.6702 - val_auc: 0.8708 - val_f1_score: 0.7011\n",
            "Epoch 3/100\n",
            "130/130 [==============================] - 55s 417ms/step - loss: 0.6108 - accuracy: 0.6751 - precision: 0.6762 - recall: 0.6703 - auc: 0.8658 - f1_score: 0.6998 - val_loss: 0.6264 - val_accuracy: 0.6577 - val_precision: 0.6573 - val_recall: 0.6567 - val_auc: 0.8554 - val_f1_score: 0.6768\n",
            "Epoch 4/100\n",
            "130/130 [==============================] - 53s 405ms/step - loss: 0.6047 - accuracy: 0.6920 - precision: 0.6929 - recall: 0.6867 - auc: 0.8705 - f1_score: 0.7149 - val_loss: 0.6344 - val_accuracy: 0.6760 - val_precision: 0.6779 - val_recall: 0.6760 - val_auc: 0.8576 - val_f1_score: 0.6996\n",
            "Epoch 5/100\n",
            "130/130 [==============================] - 52s 403ms/step - loss: 0.5958 - accuracy: 0.6951 - precision: 0.6965 - recall: 0.6925 - auc: 0.8758 - f1_score: 0.7175 - val_loss: 0.5781 - val_accuracy: 0.6972 - val_precision: 0.6972 - val_recall: 0.6972 - val_auc: 0.8817 - val_f1_score: 0.7244\n",
            "Epoch 6/100\n",
            "130/130 [==============================] - 59s 451ms/step - loss: 0.5836 - accuracy: 0.7007 - precision: 0.7008 - recall: 0.6964 - auc: 0.8828 - f1_score: 0.7219 - val_loss: 0.5740 - val_accuracy: 0.6924 - val_precision: 0.6918 - val_recall: 0.6905 - val_auc: 0.8864 - val_f1_score: 0.7198\n",
            "Epoch 7/100\n",
            "130/130 [==============================] - 53s 404ms/step - loss: 0.5852 - accuracy: 0.7050 - precision: 0.7064 - recall: 0.7002 - auc: 0.8821 - f1_score: 0.7235 - val_loss: 0.5945 - val_accuracy: 0.6905 - val_precision: 0.6923 - val_recall: 0.6856 - val_auc: 0.8741 - val_f1_score: 0.7187\n",
            "Epoch 8/100\n",
            "130/130 [==============================] - 54s 412ms/step - loss: 0.5894 - accuracy: 0.7046 - precision: 0.7063 - recall: 0.7000 - auc: 0.8802 - f1_score: 0.7217 - val_loss: 0.5735 - val_accuracy: 0.7020 - val_precision: 0.7020 - val_recall: 0.7020 - val_auc: 0.8856 - val_f1_score: 0.7294\n",
            "Epoch 9/100\n",
            "130/130 [==============================] - 52s 399ms/step - loss: 0.5762 - accuracy: 0.7053 - precision: 0.7063 - recall: 0.7041 - auc: 0.8872 - f1_score: 0.7238 - val_loss: 0.6008 - val_accuracy: 0.6866 - val_precision: 0.6879 - val_recall: 0.6866 - val_auc: 0.8727 - val_f1_score: 0.6999\n",
            "Epoch 10/100\n",
            "130/130 [==============================] - 54s 412ms/step - loss: 0.5696 - accuracy: 0.7135 - precision: 0.7138 - recall: 0.7104 - auc: 0.8887 - f1_score: 0.7320 - val_loss: 0.5485 - val_accuracy: 0.7146 - val_precision: 0.7146 - val_recall: 0.7146 - val_auc: 0.8950 - val_f1_score: 0.7443\n",
            "Epoch 11/100\n",
            "130/130 [==============================] - 52s 400ms/step - loss: 0.5578 - accuracy: 0.7154 - precision: 0.7161 - recall: 0.7135 - auc: 0.8939 - f1_score: 0.7355 - val_loss: 0.5536 - val_accuracy: 0.7068 - val_precision: 0.7075 - val_recall: 0.7068 - val_auc: 0.8947 - val_f1_score: 0.7265\n",
            "Epoch 12/100\n",
            "130/130 [==============================] - 53s 408ms/step - loss: 0.5453 - accuracy: 0.7285 - precision: 0.7286 - recall: 0.7270 - auc: 0.8992 - f1_score: 0.7441 - val_loss: 0.5461 - val_accuracy: 0.7184 - val_precision: 0.7184 - val_recall: 0.7184 - val_auc: 0.8962 - val_f1_score: 0.7387\n",
            "Epoch 13/100\n",
            "130/130 [==============================] - 51s 393ms/step - loss: 0.5504 - accuracy: 0.7306 - precision: 0.7308 - recall: 0.7280 - auc: 0.8979 - f1_score: 0.7501 - val_loss: 0.5425 - val_accuracy: 0.7194 - val_precision: 0.7194 - val_recall: 0.7194 - val_auc: 0.8983 - val_f1_score: 0.7455\n",
            "Epoch 14/100\n",
            "130/130 [==============================] - 52s 400ms/step - loss: 0.5402 - accuracy: 0.7268 - precision: 0.7280 - recall: 0.7260 - auc: 0.9018 - f1_score: 0.7431 - val_loss: 0.5266 - val_accuracy: 0.7223 - val_precision: 0.7227 - val_recall: 0.7213 - val_auc: 0.9072 - val_f1_score: 0.7419\n",
            "Epoch 15/100\n",
            "130/130 [==============================] - 51s 394ms/step - loss: 0.5373 - accuracy: 0.7323 - precision: 0.7340 - recall: 0.7321 - auc: 0.9032 - f1_score: 0.7499 - val_loss: 0.5360 - val_accuracy: 0.7300 - val_precision: 0.7300 - val_recall: 0.7300 - val_auc: 0.9024 - val_f1_score: 0.7515\n",
            "Epoch 16/100\n",
            "130/130 [==============================] - 58s 443ms/step - loss: 0.5304 - accuracy: 0.7391 - precision: 0.7391 - recall: 0.7376 - auc: 0.9072 - f1_score: 0.7577 - val_loss: 0.5144 - val_accuracy: 0.7387 - val_precision: 0.7387 - val_recall: 0.7387 - val_auc: 0.9114 - val_f1_score: 0.7595\n",
            "Epoch 17/100\n",
            "130/130 [==============================] - 51s 389ms/step - loss: 0.5352 - accuracy: 0.7335 - precision: 0.7343 - recall: 0.7323 - auc: 0.9053 - f1_score: 0.7491 - val_loss: 0.5213 - val_accuracy: 0.7310 - val_precision: 0.7310 - val_recall: 0.7310 - val_auc: 0.9102 - val_f1_score: 0.7510\n",
            "Epoch 18/100\n",
            "130/130 [==============================] - 51s 391ms/step - loss: 0.5283 - accuracy: 0.7359 - precision: 0.7367 - recall: 0.7355 - auc: 0.9072 - f1_score: 0.7527 - val_loss: 0.5061 - val_accuracy: 0.7425 - val_precision: 0.7425 - val_recall: 0.7425 - val_auc: 0.9156 - val_f1_score: 0.7612\n",
            "Epoch 19/100\n",
            "130/130 [==============================] - 51s 389ms/step - loss: 0.5251 - accuracy: 0.7350 - precision: 0.7360 - recall: 0.7343 - auc: 0.9093 - f1_score: 0.7479 - val_loss: 0.4975 - val_accuracy: 0.7377 - val_precision: 0.7377 - val_recall: 0.7377 - val_auc: 0.9174 - val_f1_score: 0.7539\n",
            "Epoch 20/100\n",
            "130/130 [==============================] - 53s 408ms/step - loss: 0.5071 - accuracy: 0.7454 - precision: 0.7467 - recall: 0.7451 - auc: 0.9148 - f1_score: 0.7593 - val_loss: 0.4962 - val_accuracy: 0.7425 - val_precision: 0.7425 - val_recall: 0.7425 - val_auc: 0.9186 - val_f1_score: 0.7605\n",
            "Epoch 21/100\n",
            "130/130 [==============================] - 51s 390ms/step - loss: 0.5029 - accuracy: 0.7531 - precision: 0.7539 - recall: 0.7521 - auc: 0.9163 - f1_score: 0.7668 - val_loss: 0.4948 - val_accuracy: 0.7647 - val_precision: 0.7647 - val_recall: 0.7647 - val_auc: 0.9202 - val_f1_score: 0.7785\n",
            "Epoch 22/100\n",
            "130/130 [==============================] - 51s 391ms/step - loss: 0.5062 - accuracy: 0.7492 - precision: 0.7501 - recall: 0.7478 - auc: 0.9161 - f1_score: 0.7640 - val_loss: 0.5325 - val_accuracy: 0.7155 - val_precision: 0.7159 - val_recall: 0.7146 - val_auc: 0.9076 - val_f1_score: 0.7397\n",
            "Epoch 23/100\n",
            "130/130 [==============================] - 52s 398ms/step - loss: 0.4963 - accuracy: 0.7536 - precision: 0.7537 - recall: 0.7528 - auc: 0.9194 - f1_score: 0.7671 - val_loss: 0.5413 - val_accuracy: 0.7059 - val_precision: 0.7059 - val_recall: 0.7059 - val_auc: 0.8945 - val_f1_score: 0.6831\n",
            "Epoch 24/100\n",
            "130/130 [==============================] - 52s 398ms/step - loss: 0.5022 - accuracy: 0.7449 - precision: 0.7455 - recall: 0.7437 - auc: 0.9160 - f1_score: 0.7617 - val_loss: 0.4886 - val_accuracy: 0.7570 - val_precision: 0.7570 - val_recall: 0.7570 - val_auc: 0.9215 - val_f1_score: 0.7634\n",
            "Epoch 25/100\n",
            "130/130 [==============================] - 51s 390ms/step - loss: 0.4945 - accuracy: 0.7531 - precision: 0.7534 - recall: 0.7516 - auc: 0.9198 - f1_score: 0.7708 - val_loss: 0.4680 - val_accuracy: 0.7792 - val_precision: 0.7792 - val_recall: 0.7792 - val_auc: 0.9293 - val_f1_score: 0.7947\n",
            "Epoch 26/100\n",
            "130/130 [==============================] - 50s 381ms/step - loss: 0.4827 - accuracy: 0.7586 - precision: 0.7596 - recall: 0.7579 - auc: 0.9236 - f1_score: 0.7740 - val_loss: 0.4691 - val_accuracy: 0.7821 - val_precision: 0.7821 - val_recall: 0.7821 - val_auc: 0.9319 - val_f1_score: 0.7952\n",
            "Epoch 27/100\n",
            "130/130 [==============================] - 50s 382ms/step - loss: 0.4715 - accuracy: 0.7668 - precision: 0.7673 - recall: 0.7656 - auc: 0.9277 - f1_score: 0.7810 - val_loss: 0.4475 - val_accuracy: 0.7782 - val_precision: 0.7782 - val_recall: 0.7782 - val_auc: 0.9357 - val_f1_score: 0.7903\n",
            "Epoch 28/100\n",
            "130/130 [==============================] - 53s 405ms/step - loss: 0.4682 - accuracy: 0.7796 - precision: 0.7800 - recall: 0.7787 - auc: 0.9296 - f1_score: 0.7912 - val_loss: 0.4499 - val_accuracy: 0.7763 - val_precision: 0.7763 - val_recall: 0.7763 - val_auc: 0.9339 - val_f1_score: 0.7889\n",
            "Epoch 29/100\n",
            "130/130 [==============================] - 52s 400ms/step - loss: 0.4703 - accuracy: 0.7705 - precision: 0.7710 - recall: 0.7688 - auc: 0.9285 - f1_score: 0.7847 - val_loss: 0.4865 - val_accuracy: 0.7541 - val_precision: 0.7541 - val_recall: 0.7541 - val_auc: 0.9226 - val_f1_score: 0.7676\n",
            "Epoch 30/100\n",
            "130/130 [==============================] - 53s 406ms/step - loss: 0.4574 - accuracy: 0.7767 - precision: 0.7768 - recall: 0.7762 - auc: 0.9321 - f1_score: 0.7902 - val_loss: 0.4095 - val_accuracy: 0.8149 - val_precision: 0.8149 - val_recall: 0.8149 - val_auc: 0.9470 - val_f1_score: 0.8211\n",
            "Epoch 31/100\n",
            "130/130 [==============================] - 50s 387ms/step - loss: 0.4534 - accuracy: 0.7801 - precision: 0.7808 - recall: 0.7791 - auc: 0.9333 - f1_score: 0.7948 - val_loss: 0.4201 - val_accuracy: 0.8149 - val_precision: 0.8149 - val_recall: 0.8149 - val_auc: 0.9453 - val_f1_score: 0.8209\n",
            "Epoch 32/100\n",
            "130/130 [==============================] - 50s 388ms/step - loss: 0.4427 - accuracy: 0.7866 - precision: 0.7865 - recall: 0.7861 - auc: 0.9370 - f1_score: 0.7984 - val_loss: 0.4379 - val_accuracy: 0.7975 - val_precision: 0.7973 - val_recall: 0.7965 - val_auc: 0.9388 - val_f1_score: 0.8052\n",
            "Epoch 33/100\n",
            "130/130 [==============================] - 50s 384ms/step - loss: 0.4457 - accuracy: 0.7881 - precision: 0.7884 - recall: 0.7859 - auc: 0.9354 - f1_score: 0.7984 - val_loss: 0.4499 - val_accuracy: 0.7946 - val_precision: 0.7946 - val_recall: 0.7946 - val_auc: 0.9366 - val_f1_score: 0.8034\n",
            "Epoch 34/100\n",
            "130/130 [==============================] - 50s 387ms/step - loss: 0.4353 - accuracy: 0.8004 - precision: 0.8013 - recall: 0.8001 - auc: 0.9405 - f1_score: 0.8108 - val_loss: 0.4319 - val_accuracy: 0.7859 - val_precision: 0.7859 - val_recall: 0.7859 - val_auc: 0.9421 - val_f1_score: 0.7817\n",
            "Epoch 35/100\n",
            "130/130 [==============================] - 51s 394ms/step - loss: 0.4291 - accuracy: 0.8030 - precision: 0.8035 - recall: 0.8026 - auc: 0.9419 - f1_score: 0.8139 - val_loss: 0.4237 - val_accuracy: 0.8100 - val_precision: 0.8100 - val_recall: 0.8100 - val_auc: 0.9428 - val_f1_score: 0.8175\n",
            "Epoch 36/100\n",
            "130/130 [==============================] - 51s 395ms/step - loss: 0.4291 - accuracy: 0.7912 - precision: 0.7919 - recall: 0.7910 - auc: 0.9416 - f1_score: 0.8045 - val_loss: 0.4296 - val_accuracy: 0.8033 - val_precision: 0.8041 - val_recall: 0.8033 - val_auc: 0.9413 - val_f1_score: 0.8087\n",
            "Epoch 37/100\n",
            "130/130 [==============================] - 51s 389ms/step - loss: 0.4228 - accuracy: 0.7965 - precision: 0.7980 - recall: 0.7960 - auc: 0.9432 - f1_score: 0.8056 - val_loss: 0.4577 - val_accuracy: 0.7898 - val_precision: 0.7898 - val_recall: 0.7898 - val_auc: 0.9347 - val_f1_score: 0.7984\n",
            "Epoch 38/100\n",
            "130/130 [==============================] - 51s 391ms/step - loss: 0.4095 - accuracy: 0.8028 - precision: 0.8029 - recall: 0.8016 - auc: 0.9459 - f1_score: 0.8130 - val_loss: 0.4273 - val_accuracy: 0.8091 - val_precision: 0.8089 - val_recall: 0.8081 - val_auc: 0.9435 - val_f1_score: 0.8143\n",
            "Epoch 39/100\n",
            "130/130 [==============================] - 50s 385ms/step - loss: 0.4207 - accuracy: 0.8062 - precision: 0.8068 - recall: 0.8055 - auc: 0.9444 - f1_score: 0.8151 - val_loss: 0.4017 - val_accuracy: 0.8139 - val_precision: 0.8139 - val_recall: 0.8139 - val_auc: 0.9507 - val_f1_score: 0.8184\n",
            "Epoch 40/100\n",
            "130/130 [==============================] - 51s 389ms/step - loss: 0.4060 - accuracy: 0.8132 - precision: 0.8138 - recall: 0.8122 - auc: 0.9482 - f1_score: 0.8223 - val_loss: 0.4360 - val_accuracy: 0.7946 - val_precision: 0.7954 - val_recall: 0.7946 - val_auc: 0.9394 - val_f1_score: 0.8012\n",
            "Epoch 41/100\n",
            "130/130 [==============================] - 50s 387ms/step - loss: 0.4052 - accuracy: 0.8055 - precision: 0.8059 - recall: 0.8047 - auc: 0.9480 - f1_score: 0.8154 - val_loss: 0.3786 - val_accuracy: 0.8447 - val_precision: 0.8447 - val_recall: 0.8447 - val_auc: 0.9575 - val_f1_score: 0.8429\n",
            "Epoch 42/100\n",
            "130/130 [==============================] - 51s 390ms/step - loss: 0.4048 - accuracy: 0.8100 - precision: 0.8109 - recall: 0.8093 - auc: 0.9488 - f1_score: 0.8207 - val_loss: 0.3840 - val_accuracy: 0.8284 - val_precision: 0.8292 - val_recall: 0.8284 - val_auc: 0.9544 - val_f1_score: 0.8296\n",
            "Epoch 43/100\n",
            "130/130 [==============================] - 50s 385ms/step - loss: 0.3912 - accuracy: 0.8195 - precision: 0.8200 - recall: 0.8192 - auc: 0.9523 - f1_score: 0.8281 - val_loss: 0.3922 - val_accuracy: 0.8226 - val_precision: 0.8226 - val_recall: 0.8226 - val_auc: 0.9520 - val_f1_score: 0.8252\n",
            "Epoch 44/100\n",
            "130/130 [==============================] - 51s 390ms/step - loss: 0.3844 - accuracy: 0.8240 - precision: 0.8249 - recall: 0.8233 - auc: 0.9537 - f1_score: 0.8316 - val_loss: 0.3920 - val_accuracy: 0.8255 - val_precision: 0.8255 - val_recall: 0.8255 - val_auc: 0.9534 - val_f1_score: 0.8283\n",
            "Epoch 45/100\n",
            "130/130 [==============================] - 51s 392ms/step - loss: 0.3841 - accuracy: 0.8236 - precision: 0.8240 - recall: 0.8228 - auc: 0.9543 - f1_score: 0.8325 - val_loss: 0.3687 - val_accuracy: 0.8380 - val_precision: 0.8380 - val_recall: 0.8380 - val_auc: 0.9584 - val_f1_score: 0.8409\n",
            "Epoch 46/100\n",
            "130/130 [==============================] - 52s 400ms/step - loss: 0.3909 - accuracy: 0.8248 - precision: 0.8247 - recall: 0.8233 - auc: 0.9524 - f1_score: 0.8310 - val_loss: 0.3738 - val_accuracy: 0.8274 - val_precision: 0.8274 - val_recall: 0.8274 - val_auc: 0.9567 - val_f1_score: 0.8298\n",
            "Epoch 47/100\n",
            "130/130 [==============================] - 51s 390ms/step - loss: 0.3824 - accuracy: 0.8281 - precision: 0.8283 - recall: 0.8269 - auc: 0.9545 - f1_score: 0.8363 - val_loss: 0.3946 - val_accuracy: 0.8187 - val_precision: 0.8185 - val_recall: 0.8177 - val_auc: 0.9523 - val_f1_score: 0.8237\n",
            "Epoch 48/100\n",
            "130/130 [==============================] - 51s 393ms/step - loss: 0.3672 - accuracy: 0.8272 - precision: 0.8271 - recall: 0.8269 - auc: 0.9576 - f1_score: 0.8321 - val_loss: 0.4038 - val_accuracy: 0.8264 - val_precision: 0.8264 - val_recall: 0.8264 - val_auc: 0.9508 - val_f1_score: 0.8267\n",
            "Epoch 49/100\n",
            "130/130 [==============================] - 50s 385ms/step - loss: 0.3590 - accuracy: 0.8354 - precision: 0.8355 - recall: 0.8347 - auc: 0.9600 - f1_score: 0.8408 - val_loss: 0.3869 - val_accuracy: 0.8264 - val_precision: 0.8264 - val_recall: 0.8264 - val_auc: 0.9541 - val_f1_score: 0.8296\n",
            "Epoch 50/100\n",
            "130/130 [==============================] - 52s 397ms/step - loss: 0.3694 - accuracy: 0.8308 - precision: 0.8314 - recall: 0.8294 - auc: 0.9575 - f1_score: 0.8341 - val_loss: 0.3728 - val_accuracy: 0.8351 - val_precision: 0.8351 - val_recall: 0.8351 - val_auc: 0.9585 - val_f1_score: 0.8384\n",
            "Epoch 51/100\n",
            "130/130 [==============================] - 51s 396ms/step - loss: 0.3545 - accuracy: 0.8412 - precision: 0.8413 - recall: 0.8409 - auc: 0.9612 - f1_score: 0.8476 - val_loss: 0.3521 - val_accuracy: 0.8534 - val_precision: 0.8534 - val_recall: 0.8534 - val_auc: 0.9623 - val_f1_score: 0.8526\n",
            "Epoch 52/100\n",
            "130/130 [==============================] - 52s 399ms/step - loss: 0.3582 - accuracy: 0.8303 - precision: 0.8304 - recall: 0.8298 - auc: 0.9597 - f1_score: 0.8337 - val_loss: 0.3376 - val_accuracy: 0.8611 - val_precision: 0.8611 - val_recall: 0.8611 - val_auc: 0.9665 - val_f1_score: 0.8615\n",
            "Epoch 53/100\n",
            "130/130 [==============================] - 51s 391ms/step - loss: 0.3488 - accuracy: 0.8467 - precision: 0.8468 - recall: 0.8460 - auc: 0.9625 - f1_score: 0.8482 - val_loss: 0.3833 - val_accuracy: 0.8293 - val_precision: 0.8293 - val_recall: 0.8293 - val_auc: 0.9574 - val_f1_score: 0.8333\n",
            "Epoch 54/100\n",
            "130/130 [==============================] - 51s 395ms/step - loss: 0.3426 - accuracy: 0.8496 - precision: 0.8500 - recall: 0.8491 - auc: 0.9638 - f1_score: 0.8526 - val_loss: 0.3546 - val_accuracy: 0.8544 - val_precision: 0.8544 - val_recall: 0.8544 - val_auc: 0.9624 - val_f1_score: 0.8534\n",
            "Epoch 55/100\n",
            "130/130 [==============================] - 51s 394ms/step - loss: 0.3438 - accuracy: 0.8421 - precision: 0.8428 - recall: 0.8409 - auc: 0.9635 - f1_score: 0.8451 - val_loss: 0.3438 - val_accuracy: 0.8515 - val_precision: 0.8515 - val_recall: 0.8515 - val_auc: 0.9644 - val_f1_score: 0.8491\n",
            "Epoch 56/100\n",
            "130/130 [==============================] - 52s 401ms/step - loss: 0.3335 - accuracy: 0.8537 - precision: 0.8539 - recall: 0.8537 - auc: 0.9656 - f1_score: 0.8597 - val_loss: 0.3777 - val_accuracy: 0.8380 - val_precision: 0.8380 - val_recall: 0.8380 - val_auc: 0.9586 - val_f1_score: 0.8382\n",
            "Epoch 57/100\n",
            "130/130 [==============================] - 52s 396ms/step - loss: 0.3375 - accuracy: 0.8535 - precision: 0.8538 - recall: 0.8528 - auc: 0.9647 - f1_score: 0.8573 - val_loss: 0.3469 - val_accuracy: 0.8505 - val_precision: 0.8502 - val_recall: 0.8486 - val_auc: 0.9627 - val_f1_score: 0.8499\n",
            "Epoch 58/100\n",
            "130/130 [==============================] - 52s 397ms/step - loss: 0.3238 - accuracy: 0.8532 - precision: 0.8536 - recall: 0.8528 - auc: 0.9675 - f1_score: 0.8557 - val_loss: 0.3099 - val_accuracy: 0.8669 - val_precision: 0.8669 - val_recall: 0.8669 - val_auc: 0.9705 - val_f1_score: 0.8624\n",
            "Epoch 59/100\n",
            "130/130 [==============================] - 52s 396ms/step - loss: 0.3341 - accuracy: 0.8484 - precision: 0.8487 - recall: 0.8477 - auc: 0.9658 - f1_score: 0.8513 - val_loss: 0.3028 - val_accuracy: 0.8746 - val_precision: 0.8746 - val_recall: 0.8746 - val_auc: 0.9730 - val_f1_score: 0.8728\n",
            "Epoch 60/100\n",
            "130/130 [==============================] - 52s 401ms/step - loss: 0.3316 - accuracy: 0.8489 - precision: 0.8493 - recall: 0.8487 - auc: 0.9660 - f1_score: 0.8508 - val_loss: 0.3351 - val_accuracy: 0.8428 - val_precision: 0.8436 - val_recall: 0.8428 - val_auc: 0.9658 - val_f1_score: 0.8429\n",
            "Epoch 61/100\n",
            "130/130 [==============================] - 52s 398ms/step - loss: 0.3280 - accuracy: 0.8554 - precision: 0.8553 - recall: 0.8549 - auc: 0.9668 - f1_score: 0.8603 - val_loss: 0.3046 - val_accuracy: 0.8737 - val_precision: 0.8737 - val_recall: 0.8737 - val_auc: 0.9727 - val_f1_score: 0.8682\n",
            "Epoch 62/100\n",
            "130/130 [==============================] - 52s 399ms/step - loss: 0.3318 - accuracy: 0.8530 - precision: 0.8531 - recall: 0.8520 - auc: 0.9660 - f1_score: 0.8557 - val_loss: 0.3134 - val_accuracy: 0.8717 - val_precision: 0.8717 - val_recall: 0.8717 - val_auc: 0.9695 - val_f1_score: 0.8676\n",
            "Epoch 63/100\n",
            "130/130 [==============================] - 52s 399ms/step - loss: 0.3289 - accuracy: 0.8525 - precision: 0.8526 - recall: 0.8518 - auc: 0.9666 - f1_score: 0.8561 - val_loss: 0.4037 - val_accuracy: 0.8370 - val_precision: 0.8370 - val_recall: 0.8370 - val_auc: 0.9558 - val_f1_score: 0.8374\n",
            "Epoch 64/100\n",
            "130/130 [==============================] - 52s 396ms/step - loss: 0.3168 - accuracy: 0.8573 - precision: 0.8575 - recall: 0.8569 - auc: 0.9691 - f1_score: 0.8581 - val_loss: 0.2954 - val_accuracy: 0.8852 - val_precision: 0.8852 - val_recall: 0.8852 - val_auc: 0.9743 - val_f1_score: 0.8794\n",
            "Epoch 65/100\n",
            "130/130 [==============================] - 51s 391ms/step - loss: 0.3032 - accuracy: 0.8701 - precision: 0.8705 - recall: 0.8697 - auc: 0.9716 - f1_score: 0.8713 - val_loss: 0.2750 - val_accuracy: 0.8862 - val_precision: 0.8862 - val_recall: 0.8862 - val_auc: 0.9770 - val_f1_score: 0.8799\n",
            "Epoch 66/100\n",
            "130/130 [==============================] - 52s 396ms/step - loss: 0.3050 - accuracy: 0.8682 - precision: 0.8683 - recall: 0.8670 - auc: 0.9716 - f1_score: 0.8711 - val_loss: 0.2838 - val_accuracy: 0.8862 - val_precision: 0.8862 - val_recall: 0.8862 - val_auc: 0.9768 - val_f1_score: 0.8822\n",
            "Epoch 67/100\n",
            "130/130 [==============================] - 51s 392ms/step - loss: 0.3160 - accuracy: 0.8602 - precision: 0.8601 - recall: 0.8595 - auc: 0.9693 - f1_score: 0.8632 - val_loss: 0.2880 - val_accuracy: 0.8968 - val_precision: 0.8968 - val_recall: 0.8968 - val_auc: 0.9756 - val_f1_score: 0.8901\n",
            "Epoch 68/100\n",
            "130/130 [==============================] - 52s 399ms/step - loss: 0.2894 - accuracy: 0.8713 - precision: 0.8714 - recall: 0.8704 - auc: 0.9742 - f1_score: 0.8719 - val_loss: 0.2982 - val_accuracy: 0.8766 - val_precision: 0.8766 - val_recall: 0.8766 - val_auc: 0.9733 - val_f1_score: 0.8715\n"
          ]
        }
      ]
    },
    {
      "metadata": {
        "id": "yG0CKOI1Yoao"
      },
      "cell_type": "markdown",
      "source": [
        "Let's plot the validation loss and validation accuracy over time."
      ]
    },
    {
      "metadata": {
        "id": "_CCPq_ndYoap",
        "colab": {
          "base_uri": "https://localhost:8080/",
          "height": 343
        },
        "outputId": "c23fe87f-62cd-495d-8dd6-19a86dc79184"
      },
      "cell_type": "code",
      "source": [
        "fig = plt.figure(figsize=(16,4))\n",
        "ax = fig.add_subplot(121)\n",
        "ax.plot(history.history[\"val_loss\"])\n",
        "ax.set_title(\"validation loss\")\n",
        "ax.set_xlabel(\"epochs\")\n",
        "\n",
        "ax2 = fig.add_subplot(122)\n",
        "ax2.plot(history.history[\"val_accuracy\"])\n",
        "ax2.set_title(\"validation accuracy\")\n",
        "ax2.set_xlabel(\"epochs\")\n",
        "ax2.set_ylim(0, 1)\n",
        "\n",
        "plt.show()"
      ],
      "execution_count": null,
      "outputs": [
        {
          "output_type": "display_data",
          "data": {
            "text/plain": [
              "<Figure size 1600x400 with 2 Axes>"
            ],
            "image/png": "[encoded data removed]"
          },
          "metadata": {}
        }
      ]
    },
    {
      "metadata": {
        "id": "8Itd5LDAYoav",
        "colab": {
          "base_uri": "https://localhost:8080/"
        },
        "outputId": "fd2e2d1a-983c-4b79-e3ea-67002dc7cb31"
      },
      "cell_type": "code",
      "source": [
        "result = model.evaluate(test_x, test_y, verbose=0)\n",
        "print('Test result:', result)"
      ],
      "execution_count": null,
      "outputs": [
        {
          "output_type": "stream",
          "name": "stdout",
          "text": [
            "Test result: [3.235460042953491, 0.46875, 0.46875, 0.46875, 0.6279296875, array([0.56250006, 0.32000002, 0.57142854], dtype=float32)]\n"
          ]
        }
      ]
    },
    {
      "cell_type": "code",
      "source": [
        "print('Test loss:', result[0])\n",
        "print('Test accuracy:', result[1])  # Assuming accuracy is the second metric"
      ],
      "metadata": {
        "colab": {
          "base_uri": "https://localhost:8080/"
        },
        "id": "MSSKaQ3nrCae",
        "outputId": "483ec70c-899f-4209-ba7b-3b0ba98d3de2"
      },
      "execution_count": null,
      "outputs": [
        {
          "output_type": "stream",
          "name": "stdout",
          "text": [
            "Test loss: 3.235460042953491\n",
            "Test accuracy: 0.46875\n"
          ]
        }
      ]
    },
    {
      "metadata": {
        "id": "vIwMY_ZXYoax"
      },
      "cell_type": "markdown",
      "source": [
        "## Transfer Learning - ViT"
      ]
    },
    {
      "cell_type": "code",
      "source": [
        "pip install -U tensorflow-addons"
      ],
      "metadata": {
        "colab": {
          "base_uri": "https://localhost:8080/"
        },
        "id": "Z9uYqsFfYmoS",
        "outputId": "23e3ceb3-1abb-450d-a23d-6dc2eb3747c5"
      },
      "execution_count": null,
      "outputs": [
        {
          "output_type": "stream",
          "name": "stdout",
          "text": [
            "Requirement already satisfied: tensorflow-addons in /usr/local/lib/python3.10/dist-packages (0.23.0)\n",
            "Requirement already satisfied: packaging in /usr/local/lib/python3.10/dist-packages (from tensorflow-addons) (23.2)\n",
            "Requirement already satisfied: typeguard<3.0.0,>=2.7 in /usr/local/lib/python3.10/dist-packages (from tensorflow-addons) (2.13.3)\n"
          ]
        }
      ]
    },
    {
      "cell_type": "code",
      "source": [
        "import tensorflow_addons as tfa"
      ],
      "metadata": {
        "id": "HrnODaGkYsBV"
      },
      "execution_count": null,
      "outputs": []
    },
    {
      "cell_type": "code",
      "source": [
        "!pip install --quiet vit-keras\n",
        "\n",
        "from vit_keras import vit, visualize\n",
        "import tensorflow_addons as tfa"
      ],
      "metadata": {
        "id": "2ACcDmQLWmjF"
      },
      "execution_count": null,
      "outputs": []
    },
    {
      "cell_type": "code",
      "source": [
        "from keras.utils import to_categorical"
      ],
      "metadata": {
        "id": "LrRBY2AGK2Jv"
      },
      "execution_count": null,
      "outputs": []
    },
    {
      "cell_type": "code",
      "source": [
        "train_y_one_hot = to_categorical(train_y, num_classes=3)\n",
        "val_y_one_hot = to_categorical(val_y, num_classes=3)"
      ],
      "metadata": {
        "id": "2D9qGI0VKyjN"
      },
      "execution_count": null,
      "outputs": []
    },
    {
      "cell_type": "code",
      "source": [],
      "metadata": {
        "id": "jXKOCHfiKybx"
      },
      "execution_count": null,
      "outputs": []
    },
    {
      "metadata": {
        "id": "KpUDAbxiYoay",
        "colab": {
          "base_uri": "https://localhost:8080/"
        },
        "outputId": "052545c9-37cf-4cd0-eaf6-fea11e9760fa"
      },
      "cell_type": "code",
      "source": [
        "#vgg = keras.applications.VGG16(weights='imagenet', include_top=True)\n",
        "#vgg.summary()\n",
        "\n",
        "\n",
        "ViT_model = vit.vit_b16(  #vit.vit_b16\n",
        "        image_size = 224,\n",
        "        activation = 'softmax',\n",
        "        pretrained = True,\n",
        "        include_top = False,\n",
        "        pretrained_top = False,\n",
        "        classes = 3)"
      ],
      "execution_count": null,
      "outputs": [
        {
          "output_type": "stream",
          "name": "stderr",
          "text": [
            "/usr/local/lib/python3.10/dist-packages/vit_keras/utils.py:81: UserWarning: Resizing position embeddings from 24, 24 to 14, 14\n",
            "  warnings.warn(\n"
          ]
        }
      ]
    },
    {
      "cell_type": "code",
      "source": [
        "ViT_model.summary()"
      ],
      "metadata": {
        "colab": {
          "base_uri": "https://localhost:8080/"
        },
        "id": "3fTn25KEg7BJ",
        "outputId": "2e20e9d2-dbcb-4bfb-f238-d34749ad63c7"
      },
      "execution_count": null,
      "outputs": [
        {
          "output_type": "stream",
          "name": "stdout",
          "text": [
            "Model: \"vit-b16\"\n",
            "_________________________________________________________________\n",
            " Layer (type)                Output Shape              Param #   \n",
            "=================================================================\n",
            " input_2 (InputLayer)        [(None, 224, 224, 3)]     0         \n",
            "                                                                 \n",
            " embedding (Conv2D)          (None, 14, 14, 768)       590592    \n",
            "                                                                 \n",
            " reshape_1 (Reshape)         (None, 196, 768)          0         \n",
            "                                                                 \n",
            " class_token (ClassToken)    (None, 197, 768)          768       \n",
            "                                                                 \n",
            " Transformer/posembed_input  (None, 197, 768)          151296    \n",
            "  (AddPositionEmbs)                                              \n",
            "                                                                 \n",
            " Transformer/encoderblock_0  ((None, 197, 768),        7087872   \n",
            "  (TransformerBlock)          (None, 12, None, None)             \n",
            "                             )                                   \n",
            "                                                                 \n",
            " Transformer/encoderblock_1  ((None, 197, 768),        7087872   \n",
            "  (TransformerBlock)          (None, 12, None, None)             \n",
            "                             )                                   \n",
            "                                                                 \n",
            " Transformer/encoderblock_2  ((None, 197, 768),        7087872   \n",
            "  (TransformerBlock)          (None, 12, None, None)             \n",
            "                             )                                   \n",
            "                                                                 \n",
            " Transformer/encoderblock_3  ((None, 197, 768),        7087872   \n",
            "  (TransformerBlock)          (None, 12, None, None)             \n",
            "                             )                                   \n",
            "                                                                 \n",
            " Transformer/encoderblock_4  ((None, 197, 768),        7087872   \n",
            "  (TransformerBlock)          (None, 12, None, None)             \n",
            "                             )                                   \n",
            "                                                                 \n",
            " Transformer/encoderblock_5  ((None, 197, 768),        7087872   \n",
            "  (TransformerBlock)          (None, 12, None, None)             \n",
            "                             )                                   \n",
            "                                                                 \n",
            " Transformer/encoderblock_6  ((None, 197, 768),        7087872   \n",
            "  (TransformerBlock)          (None, 12, None, None)             \n",
            "                             )                                   \n",
            "                                                                 \n",
            " Transformer/encoderblock_7  ((None, 197, 768),        7087872   \n",
            "  (TransformerBlock)          (None, 12, None, None)             \n",
            "                             )                                   \n",
            "                                                                 \n",
            " Transformer/encoderblock_8  ((None, 197, 768),        7087872   \n",
            "  (TransformerBlock)          (None, 12, None, None)             \n",
            "                             )                                   \n",
            "                                                                 \n",
            " Transformer/encoderblock_9  ((None, 197, 768),        7087872   \n",
            "  (TransformerBlock)          (None, 12, None, None)             \n",
            "                             )                                   \n",
            "                                                                 \n",
            " Transformer/encoderblock_1  ((None, 197, 768),        7087872   \n",
            " 0 (TransformerBlock)         (None, 12, None, None)             \n",
            "                             )                                   \n",
            "                                                                 \n",
            " Transformer/encoderblock_1  ((None, 197, 768),        7087872   \n",
            " 1 (TransformerBlock)         (None, 12, None, None)             \n",
            "                             )                                   \n",
            "                                                                 \n",
            " Transformer/encoder_norm (  (None, 197, 768)          1536      \n",
            " LayerNormalization)                                             \n",
            "                                                                 \n",
            " ExtractToken (Lambda)       (None, 768)               0         \n",
            "                                                                 \n",
            "=================================================================\n",
            "Total params: 85798656 (327.30 MB)\n",
            "Trainable params: 85798656 (327.30 MB)\n",
            "Non-trainable params: 0 (0.00 Byte)\n",
            "_________________________________________________________________\n"
          ]
        }
      ]
    },
    {
      "cell_type": "code",
      "source": [
        "model = keras.Sequential([\n",
        "    ViT_model,  # Include the ViT model as the base\n",
        "\n",
        "    Flatten(),  # Flatten the output of ViT\n",
        "\n",
        "    Dense(64, activation='relu'),\n",
        "    Dropout(0.1),\n",
        "\n",
        "    Dense(3, activation='softmax')  # Output layer with 3 classes\n",
        "])"
      ],
      "metadata": {
        "id": "08IiczamDk7w"
      },
      "execution_count": null,
      "outputs": []
    },
    {
      "cell_type": "code",
      "source": [
        "OPT = keras.optimizers.AdamW(learning_rate=0.001)"
      ],
      "metadata": {
        "id": "vs79I-ElcOwa"
      },
      "execution_count": null,
      "outputs": []
    },
    {
      "metadata": {
        "id": "e_n5A8oGYoa9",
        "colab": {
          "base_uri": "https://localhost:8080/",
          "height": 192
        },
        "outputId": "8685c8ea-b1ae-4b2c-a133-569b84ff87dc"
      },
      "cell_type": "code",
      "source": [
        "model.compile(loss=LOSS, optimizer=OPT,\n",
        "              metrics=metrics_model)"
      ],
      "execution_count": null,
      "outputs": [
        {
          "output_type": "error",
          "ename": "NameError",
          "evalue": "name 'LOSS' is not defined",
          "traceback": [
            "\u001b[0;31m---------------------------------------------------------------------------\u001b[0m",
            "\u001b[0;31mNameError\u001b[0m                                 Traceback (most recent call last)",
            "\u001b[0;32m<ipython-input-86-ba33027f27bd>\u001b[0m in \u001b[0;36m<cell line: 1>\u001b[0;34m()\u001b[0m\n\u001b[0;32m----> 1\u001b[0;31m model.compile(loss=LOSS, optimizer=OPT,\n\u001b[0m\u001b[1;32m      2\u001b[0m               metrics=metrics_model) \n",
            "\u001b[0;31mNameError\u001b[0m: name 'LOSS' is not defined"
          ]
        }
      ]
    },
    {
      "metadata": {
        "id": "aDdq71XNYobD",
        "colab": {
          "base_uri": "https://localhost:8080/",
          "height": 861
        },
        "outputId": "95c00cbb-6687-4664-e6e3-459bc985a345"
      },
      "cell_type": "code",
      "source": [
        "history2 = model.fit(train_generator,\n",
        "                     batch_size=64, epochs=50,\n",
        "                     callbacks=CALLBACKS\n",
        "                     validation_data=val_generator)"
      ],
      "execution_count": null,
      "outputs": [
        {
          "output_type": "stream",
          "name": "stdout",
          "text": [
            "Epoch 1/50\n",
            "130/130 [==============================] - 234s 1s/step - loss: 0.7381 - accuracy: 0.5272 - precision: 0.5308 - recall: 0.5120 - auc: 0.7679 - f1_score: 0.5723 - val_loss: 0.6857 - val_accuracy: 0.5352 - val_precision: 0.5352 - val_recall: 0.5352 - val_auc: 0.7989 - val_f1_score: 0.4933\n",
            "Epoch 2/50\n",
            "130/130 [==============================] - 188s 1s/step - loss: 0.7063 - accuracy: 0.5223 - precision: 0.5235 - recall: 0.5117 - auc: 0.7736 - f1_score: 0.5725 - val_loss: 0.6782 - val_accuracy: 0.5419 - val_precision: 0.5419 - val_recall: 0.5419 - val_auc: 0.7983 - val_f1_score: 0.4847\n",
            "Epoch 3/50\n",
            "130/130 [==============================] - 188s 1s/step - loss: 0.7065 - accuracy: 0.5274 - precision: 0.5257 - recall: 0.4984 - auc: 0.7742 - f1_score: 0.5755 - val_loss: 0.6920 - val_accuracy: 0.6181 - val_precision: 0.6704 - val_recall: 0.2334 - val_auc: 0.7937 - val_f1_score: 0.6305\n",
            "Epoch 4/50\n",
            "130/130 [==============================] - 188s 1s/step - loss: 0.7039 - accuracy: 0.5390 - precision: 0.5423 - recall: 0.5281 - auc: 0.7801 - f1_score: 0.5833 - val_loss: 0.6821 - val_accuracy: 0.5419 - val_precision: 0.5419 - val_recall: 0.5419 - val_auc: 0.8063 - val_f1_score: 0.4847\n",
            "Epoch 5/50\n",
            "130/130 [==============================] - 188s 1s/step - loss: 0.6989 - accuracy: 0.5407 - precision: 0.5411 - recall: 0.5177 - auc: 0.7786 - f1_score: 0.5878 - val_loss: 0.6989 - val_accuracy: 0.5419 - val_precision: 0.5582 - val_recall: 0.4947 - val_auc: 0.8074 - val_f1_score: 0.4847\n",
            "Epoch 6/50\n",
            "130/130 [==============================] - 188s 1s/step - loss: 0.6974 - accuracy: 0.5303 - precision: 0.5334 - recall: 0.5189 - auc: 0.7793 - f1_score: 0.5794 - val_loss: 0.6829 - val_accuracy: 0.5342 - val_precision: 0.5344 - val_recall: 0.5323 - val_auc: 0.8025 - val_f1_score: 0.4922\n",
            "Epoch 7/50\n",
            "130/130 [==============================] - 188s 1s/step - loss: 0.6858 - accuracy: 0.5414 - precision: 0.5411 - recall: 0.5351 - auc: 0.7836 - f1_score: 0.5866 - val_loss: 0.6797 - val_accuracy: 0.5352 - val_precision: 0.5352 - val_recall: 0.5352 - val_auc: 0.7898 - val_f1_score: 0.4933\n",
            "Epoch 8/50\n",
            "130/130 [==============================] - 188s 1s/step - loss: 0.6932 - accuracy: 0.5354 - precision: 0.5382 - recall: 0.5206 - auc: 0.7818 - f1_score: 0.5790 - val_loss: 0.6778 - val_accuracy: 0.5419 - val_precision: 0.5426 - val_recall: 0.5410 - val_auc: 0.7959 - val_f1_score: 0.4847\n",
            "Epoch 9/50\n",
            "130/130 [==============================] - 194s 1s/step - loss: 0.6955 - accuracy: 0.5308 - precision: 0.5347 - recall: 0.5054 - auc: 0.7787 - f1_score: 0.5798 - val_loss: 0.6833 - val_accuracy: 0.5352 - val_precision: 0.5352 - val_recall: 0.5352 - val_auc: 0.7960 - val_f1_score: 0.4933\n",
            "Epoch 10/50\n",
            "130/130 [==============================] - 188s 1s/step - loss: 0.6946 - accuracy: 0.5385 - precision: 0.5407 - recall: 0.5197 - auc: 0.7819 - f1_score: 0.5876 - val_loss: 0.6774 - val_accuracy: 0.5564 - val_precision: 0.5572 - val_recall: 0.5400 - val_auc: 0.7997 - val_f1_score: 0.5204\n",
            "Epoch 11/50\n",
            "130/130 [==============================] - 188s 1s/step - loss: 0.6851 - accuracy: 0.5506 - precision: 0.5509 - recall: 0.5380 - auc: 0.7850 - f1_score: 0.5907 - val_loss: 0.6797 - val_accuracy: 0.5371 - val_precision: 0.5371 - val_recall: 0.5371 - val_auc: 0.7967 - val_f1_score: 0.4986\n",
            "Epoch 12/50\n",
            "130/130 [==============================] - 190s 1s/step - loss: 0.6889 - accuracy: 0.5363 - precision: 0.5370 - recall: 0.5267 - auc: 0.7822 - f1_score: 0.5857 - val_loss: 0.6766 - val_accuracy: 0.5516 - val_precision: 0.5507 - val_recall: 0.5497 - val_auc: 0.7996 - val_f1_score: 0.5035\n",
            "Epoch 13/50\n",
            "130/130 [==============================] - 189s 1s/step - loss: 0.6857 - accuracy: 0.5329 - precision: 0.5336 - recall: 0.5245 - auc: 0.7808 - f1_score: 0.5761 - val_loss: 0.6809 - val_accuracy: 0.5352 - val_precision: 0.5352 - val_recall: 0.5352 - val_auc: 0.8036 - val_f1_score: 0.4933\n",
            "Epoch 14/50\n",
            "102/130 [======================>.......] - ETA: 37s - loss: 0.6881 - accuracy: 0.5383 - precision: 0.5391 - recall: 0.5331 - auc: 0.7825 - f1_score: 0.5869"
          ]
        },
        {
          "output_type": "error",
          "ename": "KeyboardInterrupt",
          "evalue": "",
          "traceback": [
            "\u001b[0;31m---------------------------------------------------------------------------\u001b[0m",
            "\u001b[0;31mKeyboardInterrupt\u001b[0m                         Traceback (most recent call last)",
            "\u001b[0;32m<ipython-input-85-0c4e9f205169>\u001b[0m in \u001b[0;36m<cell line: 1>\u001b[0;34m()\u001b[0m\n\u001b[0;32m----> 1\u001b[0;31m history2 = model.fit(train_generator,\n\u001b[0m\u001b[1;32m      2\u001b[0m                      \u001b[0mbatch_size\u001b[0m\u001b[0;34m=\u001b[0m\u001b[0;36m128\u001b[0m\u001b[0;34m,\u001b[0m \u001b[0mepochs\u001b[0m\u001b[0;34m=\u001b[0m\u001b[0;36m50\u001b[0m\u001b[0;34m,\u001b[0m\u001b[0;34m\u001b[0m\u001b[0;34m\u001b[0m\u001b[0m\n\u001b[1;32m      3\u001b[0m                      validation_data=val_generator)\n",
            "\u001b[0;32m/usr/local/lib/python3.10/dist-packages/keras/src/utils/traceback_utils.py\u001b[0m in \u001b[0;36merror_handler\u001b[0;34m(*args, **kwargs)\u001b[0m\n\u001b[1;32m     63\u001b[0m         \u001b[0mfiltered_tb\u001b[0m \u001b[0;34m=\u001b[0m \u001b[0;32mNone\u001b[0m\u001b[0;34m\u001b[0m\u001b[0;34m\u001b[0m\u001b[0m\n\u001b[1;32m     64\u001b[0m         \u001b[0;32mtry\u001b[0m\u001b[0;34m:\u001b[0m\u001b[0;34m\u001b[0m\u001b[0;34m\u001b[0m\u001b[0m\n\u001b[0;32m---> 65\u001b[0;31m             \u001b[0;32mreturn\u001b[0m \u001b[0mfn\u001b[0m\u001b[0;34m(\u001b[0m\u001b[0;34m*\u001b[0m\u001b[0margs\u001b[0m\u001b[0;34m,\u001b[0m \u001b[0;34m**\u001b[0m\u001b[0mkwargs\u001b[0m\u001b[0;34m)\u001b[0m\u001b[0;34m\u001b[0m\u001b[0;34m\u001b[0m\u001b[0m\n\u001b[0m\u001b[1;32m     66\u001b[0m         \u001b[0;32mexcept\u001b[0m \u001b[0mException\u001b[0m \u001b[0;32mas\u001b[0m \u001b[0me\u001b[0m\u001b[0;34m:\u001b[0m\u001b[0;34m\u001b[0m\u001b[0;34m\u001b[0m\u001b[0m\n\u001b[1;32m     67\u001b[0m             \u001b[0mfiltered_tb\u001b[0m \u001b[0;34m=\u001b[0m \u001b[0m_process_traceback_frames\u001b[0m\u001b[0;34m(\u001b[0m\u001b[0me\u001b[0m\u001b[0;34m.\u001b[0m\u001b[0m__traceback__\u001b[0m\u001b[0;34m)\u001b[0m\u001b[0;34m\u001b[0m\u001b[0;34m\u001b[0m\u001b[0m\n",
            "\u001b[0;32m/usr/local/lib/python3.10/dist-packages/keras/src/engine/training.py\u001b[0m in \u001b[0;36mfit\u001b[0;34m(self, x, y, batch_size, epochs, verbose, callbacks, validation_split, validation_data, shuffle, class_weight, sample_weight, initial_epoch, steps_per_epoch, validation_steps, validation_batch_size, validation_freq, max_queue_size, workers, use_multiprocessing)\u001b[0m\n\u001b[1;32m   1805\u001b[0m                         ):\n\u001b[1;32m   1806\u001b[0m                             \u001b[0mcallbacks\u001b[0m\u001b[0;34m.\u001b[0m\u001b[0mon_train_batch_begin\u001b[0m\u001b[0;34m(\u001b[0m\u001b[0mstep\u001b[0m\u001b[0;34m)\u001b[0m\u001b[0;34m\u001b[0m\u001b[0;34m\u001b[0m\u001b[0m\n\u001b[0;32m-> 1807\u001b[0;31m                             \u001b[0mtmp_logs\u001b[0m \u001b[0;34m=\u001b[0m \u001b[0mself\u001b[0m\u001b[0;34m.\u001b[0m\u001b[0mtrain_function\u001b[0m\u001b[0;34m(\u001b[0m\u001b[0miterator\u001b[0m\u001b[0;34m)\u001b[0m\u001b[0;34m\u001b[0m\u001b[0;34m\u001b[0m\u001b[0m\n\u001b[0m\u001b[1;32m   1808\u001b[0m                             \u001b[0;32mif\u001b[0m \u001b[0mdata_handler\u001b[0m\u001b[0;34m.\u001b[0m\u001b[0mshould_sync\u001b[0m\u001b[0;34m:\u001b[0m\u001b[0;34m\u001b[0m\u001b[0;34m\u001b[0m\u001b[0m\n\u001b[1;32m   1809\u001b[0m                                 \u001b[0mcontext\u001b[0m\u001b[0;34m.\u001b[0m\u001b[0masync_wait\u001b[0m\u001b[0;34m(\u001b[0m\u001b[0;34m)\u001b[0m\u001b[0;34m\u001b[0m\u001b[0;34m\u001b[0m\u001b[0m\n",
            "\u001b[0;32m/usr/local/lib/python3.10/dist-packages/tensorflow/python/util/traceback_utils.py\u001b[0m in \u001b[0;36merror_handler\u001b[0;34m(*args, **kwargs)\u001b[0m\n\u001b[1;32m    148\u001b[0m     \u001b[0mfiltered_tb\u001b[0m \u001b[0;34m=\u001b[0m \u001b[0;32mNone\u001b[0m\u001b[0;34m\u001b[0m\u001b[0;34m\u001b[0m\u001b[0m\n\u001b[1;32m    149\u001b[0m     \u001b[0;32mtry\u001b[0m\u001b[0;34m:\u001b[0m\u001b[0;34m\u001b[0m\u001b[0;34m\u001b[0m\u001b[0m\n\u001b[0;32m--> 150\u001b[0;31m       \u001b[0;32mreturn\u001b[0m \u001b[0mfn\u001b[0m\u001b[0;34m(\u001b[0m\u001b[0;34m*\u001b[0m\u001b[0margs\u001b[0m\u001b[0;34m,\u001b[0m \u001b[0;34m**\u001b[0m\u001b[0mkwargs\u001b[0m\u001b[0;34m)\u001b[0m\u001b[0;34m\u001b[0m\u001b[0;34m\u001b[0m\u001b[0m\n\u001b[0m\u001b[1;32m    151\u001b[0m     \u001b[0;32mexcept\u001b[0m \u001b[0mException\u001b[0m \u001b[0;32mas\u001b[0m \u001b[0me\u001b[0m\u001b[0;34m:\u001b[0m\u001b[0;34m\u001b[0m\u001b[0;34m\u001b[0m\u001b[0m\n\u001b[1;32m    152\u001b[0m       \u001b[0mfiltered_tb\u001b[0m \u001b[0;34m=\u001b[0m \u001b[0m_process_traceback_frames\u001b[0m\u001b[0;34m(\u001b[0m\u001b[0me\u001b[0m\u001b[0;34m.\u001b[0m\u001b[0m__traceback__\u001b[0m\u001b[0;34m)\u001b[0m\u001b[0;34m\u001b[0m\u001b[0;34m\u001b[0m\u001b[0m\n",
            "\u001b[0;32m/usr/local/lib/python3.10/dist-packages/tensorflow/python/eager/polymorphic_function/polymorphic_function.py\u001b[0m in \u001b[0;36m__call__\u001b[0;34m(self, *args, **kwds)\u001b[0m\n\u001b[1;32m    830\u001b[0m \u001b[0;34m\u001b[0m\u001b[0m\n\u001b[1;32m    831\u001b[0m       \u001b[0;32mwith\u001b[0m \u001b[0mOptionalXlaContext\u001b[0m\u001b[0;34m(\u001b[0m\u001b[0mself\u001b[0m\u001b[0;34m.\u001b[0m\u001b[0m_jit_compile\u001b[0m\u001b[0;34m)\u001b[0m\u001b[0;34m:\u001b[0m\u001b[0;34m\u001b[0m\u001b[0;34m\u001b[0m\u001b[0m\n\u001b[0;32m--> 832\u001b[0;31m         \u001b[0mresult\u001b[0m \u001b[0;34m=\u001b[0m \u001b[0mself\u001b[0m\u001b[0;34m.\u001b[0m\u001b[0m_call\u001b[0m\u001b[0;34m(\u001b[0m\u001b[0;34m*\u001b[0m\u001b[0margs\u001b[0m\u001b[0;34m,\u001b[0m \u001b[0;34m**\u001b[0m\u001b[0mkwds\u001b[0m\u001b[0;34m)\u001b[0m\u001b[0;34m\u001b[0m\u001b[0;34m\u001b[0m\u001b[0m\n\u001b[0m\u001b[1;32m    833\u001b[0m \u001b[0;34m\u001b[0m\u001b[0m\n\u001b[1;32m    834\u001b[0m       \u001b[0mnew_tracing_count\u001b[0m \u001b[0;34m=\u001b[0m \u001b[0mself\u001b[0m\u001b[0;34m.\u001b[0m\u001b[0mexperimental_get_tracing_count\u001b[0m\u001b[0;34m(\u001b[0m\u001b[0;34m)\u001b[0m\u001b[0;34m\u001b[0m\u001b[0;34m\u001b[0m\u001b[0m\n",
            "\u001b[0;32m/usr/local/lib/python3.10/dist-packages/tensorflow/python/eager/polymorphic_function/polymorphic_function.py\u001b[0m in \u001b[0;36m_call\u001b[0;34m(self, *args, **kwds)\u001b[0m\n\u001b[1;32m    866\u001b[0m       \u001b[0;31m# In this case we have created variables on the first call, so we run the\u001b[0m\u001b[0;34m\u001b[0m\u001b[0;34m\u001b[0m\u001b[0m\n\u001b[1;32m    867\u001b[0m       \u001b[0;31m# defunned version which is guaranteed to never create variables.\u001b[0m\u001b[0;34m\u001b[0m\u001b[0;34m\u001b[0m\u001b[0m\n\u001b[0;32m--> 868\u001b[0;31m       return tracing_compilation.call_function(\n\u001b[0m\u001b[1;32m    869\u001b[0m           \u001b[0margs\u001b[0m\u001b[0;34m,\u001b[0m \u001b[0mkwds\u001b[0m\u001b[0;34m,\u001b[0m \u001b[0mself\u001b[0m\u001b[0;34m.\u001b[0m\u001b[0m_no_variable_creation_config\u001b[0m\u001b[0;34m\u001b[0m\u001b[0;34m\u001b[0m\u001b[0m\n\u001b[1;32m    870\u001b[0m       )\n",
            "\u001b[0;32m/usr/local/lib/python3.10/dist-packages/tensorflow/python/eager/polymorphic_function/tracing_compilation.py\u001b[0m in \u001b[0;36mcall_function\u001b[0;34m(args, kwargs, tracing_options)\u001b[0m\n\u001b[1;32m    137\u001b[0m   \u001b[0mbound_args\u001b[0m \u001b[0;34m=\u001b[0m \u001b[0mfunction\u001b[0m\u001b[0;34m.\u001b[0m\u001b[0mfunction_type\u001b[0m\u001b[0;34m.\u001b[0m\u001b[0mbind\u001b[0m\u001b[0;34m(\u001b[0m\u001b[0;34m*\u001b[0m\u001b[0margs\u001b[0m\u001b[0;34m,\u001b[0m \u001b[0;34m**\u001b[0m\u001b[0mkwargs\u001b[0m\u001b[0;34m)\u001b[0m\u001b[0;34m\u001b[0m\u001b[0;34m\u001b[0m\u001b[0m\n\u001b[1;32m    138\u001b[0m   \u001b[0mflat_inputs\u001b[0m \u001b[0;34m=\u001b[0m \u001b[0mfunction\u001b[0m\u001b[0;34m.\u001b[0m\u001b[0mfunction_type\u001b[0m\u001b[0;34m.\u001b[0m\u001b[0munpack_inputs\u001b[0m\u001b[0;34m(\u001b[0m\u001b[0mbound_args\u001b[0m\u001b[0;34m)\u001b[0m\u001b[0;34m\u001b[0m\u001b[0;34m\u001b[0m\u001b[0m\n\u001b[0;32m--> 139\u001b[0;31m   return function._call_flat(  # pylint: disable=protected-access\n\u001b[0m\u001b[1;32m    140\u001b[0m       \u001b[0mflat_inputs\u001b[0m\u001b[0;34m,\u001b[0m \u001b[0mcaptured_inputs\u001b[0m\u001b[0;34m=\u001b[0m\u001b[0mfunction\u001b[0m\u001b[0;34m.\u001b[0m\u001b[0mcaptured_inputs\u001b[0m\u001b[0;34m\u001b[0m\u001b[0;34m\u001b[0m\u001b[0m\n\u001b[1;32m    141\u001b[0m   )\n",
            "\u001b[0;32m/usr/local/lib/python3.10/dist-packages/tensorflow/python/eager/polymorphic_function/concrete_function.py\u001b[0m in \u001b[0;36m_call_flat\u001b[0;34m(self, tensor_inputs, captured_inputs)\u001b[0m\n\u001b[1;32m   1321\u001b[0m         and executing_eagerly):\n\u001b[1;32m   1322\u001b[0m       \u001b[0;31m# No tape is watching; skip to running the function.\u001b[0m\u001b[0;34m\u001b[0m\u001b[0;34m\u001b[0m\u001b[0m\n\u001b[0;32m-> 1323\u001b[0;31m       \u001b[0;32mreturn\u001b[0m \u001b[0mself\u001b[0m\u001b[0;34m.\u001b[0m\u001b[0m_inference_function\u001b[0m\u001b[0;34m.\u001b[0m\u001b[0mcall_preflattened\u001b[0m\u001b[0;34m(\u001b[0m\u001b[0margs\u001b[0m\u001b[0;34m)\u001b[0m\u001b[0;34m\u001b[0m\u001b[0;34m\u001b[0m\u001b[0m\n\u001b[0m\u001b[1;32m   1324\u001b[0m     forward_backward = self._select_forward_and_backward_functions(\n\u001b[1;32m   1325\u001b[0m         \u001b[0margs\u001b[0m\u001b[0;34m,\u001b[0m\u001b[0;34m\u001b[0m\u001b[0;34m\u001b[0m\u001b[0m\n",
            "\u001b[0;32m/usr/local/lib/python3.10/dist-packages/tensorflow/python/eager/polymorphic_function/atomic_function.py\u001b[0m in \u001b[0;36mcall_preflattened\u001b[0;34m(self, args)\u001b[0m\n\u001b[1;32m    214\u001b[0m   \u001b[0;32mdef\u001b[0m \u001b[0mcall_preflattened\u001b[0m\u001b[0;34m(\u001b[0m\u001b[0mself\u001b[0m\u001b[0;34m,\u001b[0m \u001b[0margs\u001b[0m\u001b[0;34m:\u001b[0m \u001b[0mSequence\u001b[0m\u001b[0;34m[\u001b[0m\u001b[0mcore\u001b[0m\u001b[0;34m.\u001b[0m\u001b[0mTensor\u001b[0m\u001b[0;34m]\u001b[0m\u001b[0;34m)\u001b[0m \u001b[0;34m->\u001b[0m \u001b[0mAny\u001b[0m\u001b[0;34m:\u001b[0m\u001b[0;34m\u001b[0m\u001b[0;34m\u001b[0m\u001b[0m\n\u001b[1;32m    215\u001b[0m     \u001b[0;34m\"\"\"Calls with flattened tensor inputs and returns the structured output.\"\"\"\u001b[0m\u001b[0;34m\u001b[0m\u001b[0;34m\u001b[0m\u001b[0m\n\u001b[0;32m--> 216\u001b[0;31m     \u001b[0mflat_outputs\u001b[0m \u001b[0;34m=\u001b[0m \u001b[0mself\u001b[0m\u001b[0;34m.\u001b[0m\u001b[0mcall_flat\u001b[0m\u001b[0;34m(\u001b[0m\u001b[0;34m*\u001b[0m\u001b[0margs\u001b[0m\u001b[0;34m)\u001b[0m\u001b[0;34m\u001b[0m\u001b[0;34m\u001b[0m\u001b[0m\n\u001b[0m\u001b[1;32m    217\u001b[0m     \u001b[0;32mreturn\u001b[0m \u001b[0mself\u001b[0m\u001b[0;34m.\u001b[0m\u001b[0mfunction_type\u001b[0m\u001b[0;34m.\u001b[0m\u001b[0mpack_output\u001b[0m\u001b[0;34m(\u001b[0m\u001b[0mflat_outputs\u001b[0m\u001b[0;34m)\u001b[0m\u001b[0;34m\u001b[0m\u001b[0;34m\u001b[0m\u001b[0m\n\u001b[1;32m    218\u001b[0m \u001b[0;34m\u001b[0m\u001b[0m\n",
            "\u001b[0;32m/usr/local/lib/python3.10/dist-packages/tensorflow/python/eager/polymorphic_function/atomic_function.py\u001b[0m in \u001b[0;36mcall_flat\u001b[0;34m(self, *args)\u001b[0m\n\u001b[1;32m    249\u001b[0m         \u001b[0;32mwith\u001b[0m \u001b[0mrecord\u001b[0m\u001b[0;34m.\u001b[0m\u001b[0mstop_recording\u001b[0m\u001b[0;34m(\u001b[0m\u001b[0;34m)\u001b[0m\u001b[0;34m:\u001b[0m\u001b[0;34m\u001b[0m\u001b[0;34m\u001b[0m\u001b[0m\n\u001b[1;32m    250\u001b[0m           \u001b[0;32mif\u001b[0m \u001b[0mself\u001b[0m\u001b[0;34m.\u001b[0m\u001b[0m_bound_context\u001b[0m\u001b[0;34m.\u001b[0m\u001b[0mexecuting_eagerly\u001b[0m\u001b[0;34m(\u001b[0m\u001b[0;34m)\u001b[0m\u001b[0;34m:\u001b[0m\u001b[0;34m\u001b[0m\u001b[0;34m\u001b[0m\u001b[0m\n\u001b[0;32m--> 251\u001b[0;31m             outputs = self._bound_context.call_function(\n\u001b[0m\u001b[1;32m    252\u001b[0m                 \u001b[0mself\u001b[0m\u001b[0;34m.\u001b[0m\u001b[0mname\u001b[0m\u001b[0;34m,\u001b[0m\u001b[0;34m\u001b[0m\u001b[0;34m\u001b[0m\u001b[0m\n\u001b[1;32m    253\u001b[0m                 \u001b[0mlist\u001b[0m\u001b[0;34m(\u001b[0m\u001b[0margs\u001b[0m\u001b[0;34m)\u001b[0m\u001b[0;34m,\u001b[0m\u001b[0;34m\u001b[0m\u001b[0;34m\u001b[0m\u001b[0m\n",
            "\u001b[0;32m/usr/local/lib/python3.10/dist-packages/tensorflow/python/eager/context.py\u001b[0m in \u001b[0;36mcall_function\u001b[0;34m(self, name, tensor_inputs, num_outputs)\u001b[0m\n\u001b[1;32m   1484\u001b[0m     \u001b[0mcancellation_context\u001b[0m \u001b[0;34m=\u001b[0m \u001b[0mcancellation\u001b[0m\u001b[0;34m.\u001b[0m\u001b[0mcontext\u001b[0m\u001b[0;34m(\u001b[0m\u001b[0;34m)\u001b[0m\u001b[0;34m\u001b[0m\u001b[0;34m\u001b[0m\u001b[0m\n\u001b[1;32m   1485\u001b[0m     \u001b[0;32mif\u001b[0m \u001b[0mcancellation_context\u001b[0m \u001b[0;32mis\u001b[0m \u001b[0;32mNone\u001b[0m\u001b[0;34m:\u001b[0m\u001b[0;34m\u001b[0m\u001b[0;34m\u001b[0m\u001b[0m\n\u001b[0;32m-> 1486\u001b[0;31m       outputs = execute.execute(\n\u001b[0m\u001b[1;32m   1487\u001b[0m           \u001b[0mname\u001b[0m\u001b[0;34m.\u001b[0m\u001b[0mdecode\u001b[0m\u001b[0;34m(\u001b[0m\u001b[0;34m\"utf-8\"\u001b[0m\u001b[0;34m)\u001b[0m\u001b[0;34m,\u001b[0m\u001b[0;34m\u001b[0m\u001b[0;34m\u001b[0m\u001b[0m\n\u001b[1;32m   1488\u001b[0m           \u001b[0mnum_outputs\u001b[0m\u001b[0;34m=\u001b[0m\u001b[0mnum_outputs\u001b[0m\u001b[0;34m,\u001b[0m\u001b[0;34m\u001b[0m\u001b[0;34m\u001b[0m\u001b[0m\n",
            "\u001b[0;32m/usr/local/lib/python3.10/dist-packages/tensorflow/python/eager/execute.py\u001b[0m in \u001b[0;36mquick_execute\u001b[0;34m(op_name, num_outputs, inputs, attrs, ctx, name)\u001b[0m\n\u001b[1;32m     51\u001b[0m   \u001b[0;32mtry\u001b[0m\u001b[0;34m:\u001b[0m\u001b[0;34m\u001b[0m\u001b[0;34m\u001b[0m\u001b[0m\n\u001b[1;32m     52\u001b[0m     \u001b[0mctx\u001b[0m\u001b[0;34m.\u001b[0m\u001b[0mensure_initialized\u001b[0m\u001b[0;34m(\u001b[0m\u001b[0;34m)\u001b[0m\u001b[0;34m\u001b[0m\u001b[0;34m\u001b[0m\u001b[0m\n\u001b[0;32m---> 53\u001b[0;31m     tensors = pywrap_tfe.TFE_Py_Execute(ctx._handle, device_name, op_name,\n\u001b[0m\u001b[1;32m     54\u001b[0m                                         inputs, attrs, num_outputs)\n\u001b[1;32m     55\u001b[0m   \u001b[0;32mexcept\u001b[0m \u001b[0mcore\u001b[0m\u001b[0;34m.\u001b[0m\u001b[0m_NotOkStatusException\u001b[0m \u001b[0;32mas\u001b[0m \u001b[0me\u001b[0m\u001b[0;34m:\u001b[0m\u001b[0;34m\u001b[0m\u001b[0;34m\u001b[0m\u001b[0m\n",
            "\u001b[0;31mKeyboardInterrupt\u001b[0m: "
          ]
        }
      ]
    },
    {
      "metadata": {
        "id": "SHLdHnuuYobJ",
        "colab": {
          "base_uri": "https://localhost:8080/",
          "height": 294
        },
        "outputId": "bd5a066f-c94c-4ac4-adc5-3154e6143a29"
      },
      "cell_type": "code",
      "source": [
        "fig = plt.figure(figsize=(16,4))\n",
        "ax = fig.add_subplot(121)\n",
        "ax.plot(history.history[\"val_loss\"])\n",
        "ax.plot(history2.history[\"val_loss\"])\n",
        "ax.set_title(\"validation loss\")\n",
        "ax.set_xlabel(\"epochs\")\n",
        "\n",
        "ax2 = fig.add_subplot(122)\n",
        "ax2.plot(history.history[\"val_accuracy\"])\n",
        "ax2.plot(history2.history[\"val_accuracy\"])\n",
        "ax2.set_title(\"validation accuracy\")\n",
        "ax2.set_xlabel(\"epochs\")\n",
        "ax2.set_ylim(0, 1)\n",
        "\n",
        "plt.show()"
      ],
      "execution_count": null,
      "outputs": [
        {
          "output_type": "display_data",
          "data": {
            "image/png": "[encoded data removed]",
            "text/plain": [
              "<matplotlib.figure.Figure at 0x7f2332f62b00>"
            ]
          },
          "metadata": {
            "tags": []
          }
        }
      ]
    },
    {
      "metadata": {
        "id": "zMxC6Pd1YobN",
        "colab": {
          "base_uri": "https://localhost:8080/"
        },
        "outputId": "eb77f8b1-82bb-4b50-c7dd-309b44a1b77c"
      },
      "cell_type": "code",
      "source": [
        "result = ViT_model.evaluate(test_x, test_y, verbose=0)\n",
        "print('Test result:', result)"
      ],
      "execution_count": null,
      "outputs": [
        {
          "output_type": "stream",
          "name": "stdout",
          "text": [
            "Test result: [1.137289047241211, 0.46875]\n"
          ]
        }
      ]
    },
    {
      "cell_type": "code",
      "source": [
        "# helper function to load image and return it and input vector\n",
        "def get_image(path):\n",
        "    img = image.load_img(path, target_size=(224, 224))\n",
        "    x = image.img_to_array(img)\n",
        "    x = np.expand_dims(x, axis=0)\n",
        "    x = preprocess_input(x)\n",
        "    return img, x"
      ],
      "metadata": {
        "id": "idxyxzu4gTTe"
      },
      "execution_count": null,
      "outputs": []
    },
    {
      "metadata": {
        "id": "YpRcsywEYobT",
        "colab": {
          "base_uri": "https://localhost:8080/",
          "height": 34
        },
        "outputId": "858eb7b8-f403-451c-83b9-7eda70671cfc"
      },
      "cell_type": "code",
      "source": [
        "img, x = get_image('101_ObjectCategories/airplanes/image_0003.jpg')\n",
        "probabilities = model_new.predict([x])\n"
      ],
      "execution_count": null,
      "outputs": [
        {
          "output_type": "stream",
          "text": [
            "0.6425913\n"
          ],
          "name": "stdout"
        }
      ]
    },
    {
      "cell_type": "markdown",
      "source": [
        "### Transfer Learning - Mamba Network (Work in Progress)"
      ],
      "metadata": {
        "id": "1MWynCq0gw5w"
      }
    },
    {
      "cell_type": "code",
      "source": [],
      "metadata": {
        "id": "Yh5SpwPGgztZ"
      },
      "execution_count": null,
      "outputs": []
    },
    {
      "cell_type": "code",
      "source": [],
      "metadata": {
        "id": "khIcuvOHgzqj"
      },
      "execution_count": null,
      "outputs": []
    },
    {
      "cell_type": "code",
      "source": [],
      "metadata": {
        "id": "d9tBEacUgzej"
      },
      "execution_count": null,
      "outputs": []
    },
    {
      "cell_type": "code",
      "source": [],
      "metadata": {
        "id": "e1S6xbU6gzcJ"
      },
      "execution_count": null,
      "outputs": []
    },
    {
      "cell_type": "code",
      "source": [],
      "metadata": {
        "id": "TbqdqXs8gy_p"
      },
      "execution_count": null,
      "outputs": []
    }
  ]
}